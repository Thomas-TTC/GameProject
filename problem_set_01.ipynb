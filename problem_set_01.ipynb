{
  "nbformat": 4,
  "nbformat_minor": 0,
  "metadata": {
    "colab": {
      "name": "problem_set_01.ipynb",
      "provenance": [],
      "collapsed_sections": [],
      "include_colab_link": true
    },
    "kernelspec": {
      "name": "python3",
      "display_name": "Python 3"
    },
    "language_info": {
      "name": "python"
    },
    "widgets": {
      "application/vnd.jupyter.widget-state+json": {
        "7d33d6bd0c3441baa37ef7a6f33cc6e1": {
          "model_module": "@jupyter-widgets/controls",
          "model_name": "VBoxModel",
          "model_module_version": "1.5.0",
          "state": {
            "_view_name": "VBoxView",
            "_dom_classes": [
              "widget-interact"
            ],
            "_model_name": "VBoxModel",
            "_view_module": "@jupyter-widgets/controls",
            "_model_module_version": "1.5.0",
            "_view_count": null,
            "_view_module_version": "1.5.0",
            "box_style": "",
            "layout": "IPY_MODEL_2ed423291fec4d9c831e0f63f5a09208",
            "_model_module": "@jupyter-widgets/controls",
            "children": [
              "IPY_MODEL_c694597923944b7fb80cdc78894d175b",
              "IPY_MODEL_550a0305b08548c5a6b63d3a98f0422e"
            ]
          }
        },
        "2ed423291fec4d9c831e0f63f5a09208": {
          "model_module": "@jupyter-widgets/base",
          "model_name": "LayoutModel",
          "model_module_version": "1.2.0",
          "state": {
            "_view_name": "LayoutView",
            "grid_template_rows": null,
            "right": null,
            "justify_content": null,
            "_view_module": "@jupyter-widgets/base",
            "overflow": null,
            "_model_module_version": "1.2.0",
            "_view_count": null,
            "flex_flow": null,
            "width": null,
            "min_width": null,
            "border": null,
            "align_items": null,
            "bottom": null,
            "_model_module": "@jupyter-widgets/base",
            "top": null,
            "grid_column": null,
            "overflow_y": null,
            "overflow_x": null,
            "grid_auto_flow": null,
            "grid_area": null,
            "grid_template_columns": null,
            "flex": null,
            "_model_name": "LayoutModel",
            "justify_items": null,
            "grid_row": null,
            "max_height": null,
            "align_content": null,
            "visibility": null,
            "align_self": null,
            "height": null,
            "min_height": null,
            "padding": null,
            "grid_auto_rows": null,
            "grid_gap": null,
            "max_width": null,
            "order": null,
            "_view_module_version": "1.2.0",
            "grid_template_areas": null,
            "object_position": null,
            "object_fit": null,
            "grid_auto_columns": null,
            "margin": null,
            "display": null,
            "left": null
          }
        },
        "c694597923944b7fb80cdc78894d175b": {
          "model_module": "@jupyter-widgets/controls",
          "model_name": "IntSliderModel",
          "model_module_version": "1.5.0",
          "state": {
            "_view_name": "IntSliderView",
            "style": "IPY_MODEL_7bdce67cbee24ef0a10c1ee1a42a56e2",
            "_dom_classes": [],
            "description": "idx",
            "step": 1,
            "_model_name": "IntSliderModel",
            "orientation": "horizontal",
            "max": 5,
            "_view_module": "@jupyter-widgets/controls",
            "_model_module_version": "1.5.0",
            "value": 2,
            "_view_count": null,
            "disabled": false,
            "_view_module_version": "1.5.0",
            "min": 0,
            "continuous_update": true,
            "readout_format": "d",
            "description_tooltip": null,
            "readout": true,
            "_model_module": "@jupyter-widgets/controls",
            "layout": "IPY_MODEL_c9ffd3c4f5b043f7a0bc57cd5cef4b5a"
          }
        },
        "550a0305b08548c5a6b63d3a98f0422e": {
          "model_module": "@jupyter-widgets/output",
          "model_name": "OutputModel",
          "model_module_version": "1.0.0",
          "state": {
            "_view_name": "OutputView",
            "msg_id": "",
            "_dom_classes": [],
            "_model_name": "OutputModel",
            "outputs": [
              {
                "output_type": "display_data",
                "data": {
                  "image/png": "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\n",
                  "text/plain": "<IPython.core.display.Image object>"
                },
                "metadata": {}
              }
            ],
            "_view_module": "@jupyter-widgets/output",
            "_model_module_version": "1.0.0",
            "_view_count": null,
            "_view_module_version": "1.0.0",
            "layout": "IPY_MODEL_e4f0241d695c477a8f56f858aca2950d",
            "_model_module": "@jupyter-widgets/output"
          }
        },
        "7bdce67cbee24ef0a10c1ee1a42a56e2": {
          "model_module": "@jupyter-widgets/controls",
          "model_name": "SliderStyleModel",
          "model_module_version": "1.5.0",
          "state": {
            "_view_name": "StyleView",
            "handle_color": null,
            "_model_name": "SliderStyleModel",
            "description_width": "",
            "_view_module": "@jupyter-widgets/base",
            "_model_module_version": "1.5.0",
            "_view_count": null,
            "_view_module_version": "1.2.0",
            "_model_module": "@jupyter-widgets/controls"
          }
        },
        "c9ffd3c4f5b043f7a0bc57cd5cef4b5a": {
          "model_module": "@jupyter-widgets/base",
          "model_name": "LayoutModel",
          "model_module_version": "1.2.0",
          "state": {
            "_view_name": "LayoutView",
            "grid_template_rows": null,
            "right": null,
            "justify_content": null,
            "_view_module": "@jupyter-widgets/base",
            "overflow": null,
            "_model_module_version": "1.2.0",
            "_view_count": null,
            "flex_flow": null,
            "width": null,
            "min_width": null,
            "border": null,
            "align_items": null,
            "bottom": null,
            "_model_module": "@jupyter-widgets/base",
            "top": null,
            "grid_column": null,
            "overflow_y": null,
            "overflow_x": null,
            "grid_auto_flow": null,
            "grid_area": null,
            "grid_template_columns": null,
            "flex": null,
            "_model_name": "LayoutModel",
            "justify_items": null,
            "grid_row": null,
            "max_height": null,
            "align_content": null,
            "visibility": null,
            "align_self": null,
            "height": null,
            "min_height": null,
            "padding": null,
            "grid_auto_rows": null,
            "grid_gap": null,
            "max_width": null,
            "order": null,
            "_view_module_version": "1.2.0",
            "grid_template_areas": null,
            "object_position": null,
            "object_fit": null,
            "grid_auto_columns": null,
            "margin": null,
            "display": null,
            "left": null
          }
        },
        "e4f0241d695c477a8f56f858aca2950d": {
          "model_module": "@jupyter-widgets/base",
          "model_name": "LayoutModel",
          "model_module_version": "1.2.0",
          "state": {
            "_view_name": "LayoutView",
            "grid_template_rows": null,
            "right": null,
            "justify_content": null,
            "_view_module": "@jupyter-widgets/base",
            "overflow": null,
            "_model_module_version": "1.2.0",
            "_view_count": null,
            "flex_flow": null,
            "width": null,
            "min_width": null,
            "border": null,
            "align_items": null,
            "bottom": null,
            "_model_module": "@jupyter-widgets/base",
            "top": null,
            "grid_column": null,
            "overflow_y": null,
            "overflow_x": null,
            "grid_auto_flow": null,
            "grid_area": null,
            "grid_template_columns": null,
            "flex": null,
            "_model_name": "LayoutModel",
            "justify_items": null,
            "grid_row": null,
            "max_height": null,
            "align_content": null,
            "visibility": null,
            "align_self": null,
            "height": null,
            "min_height": null,
            "padding": null,
            "grid_auto_rows": null,
            "grid_gap": null,
            "max_width": null,
            "order": null,
            "_view_module_version": "1.2.0",
            "grid_template_areas": null,
            "object_position": null,
            "object_fit": null,
            "grid_auto_columns": null,
            "margin": null,
            "display": null,
            "left": null
          }
        },
        "b299e997f7414e7cb0fef2555494abd8": {
          "model_module": "@jupyter-widgets/controls",
          "model_name": "VBoxModel",
          "model_module_version": "1.5.0",
          "state": {
            "_view_name": "VBoxView",
            "_dom_classes": [
              "widget-interact"
            ],
            "_model_name": "VBoxModel",
            "_view_module": "@jupyter-widgets/controls",
            "_model_module_version": "1.5.0",
            "_view_count": null,
            "_view_module_version": "1.5.0",
            "box_style": "",
            "layout": "IPY_MODEL_af3e365d48e04f298e6b6618c0fcf347",
            "_model_module": "@jupyter-widgets/controls",
            "children": [
              "IPY_MODEL_54138122eb4540ef90e1b18e1885df78",
              "IPY_MODEL_1526f10d6eb7417fbac3f2274993875d"
            ]
          }
        },
        "af3e365d48e04f298e6b6618c0fcf347": {
          "model_module": "@jupyter-widgets/base",
          "model_name": "LayoutModel",
          "model_module_version": "1.2.0",
          "state": {
            "_view_name": "LayoutView",
            "grid_template_rows": null,
            "right": null,
            "justify_content": null,
            "_view_module": "@jupyter-widgets/base",
            "overflow": null,
            "_model_module_version": "1.2.0",
            "_view_count": null,
            "flex_flow": null,
            "width": null,
            "min_width": null,
            "border": null,
            "align_items": null,
            "bottom": null,
            "_model_module": "@jupyter-widgets/base",
            "top": null,
            "grid_column": null,
            "overflow_y": null,
            "overflow_x": null,
            "grid_auto_flow": null,
            "grid_area": null,
            "grid_template_columns": null,
            "flex": null,
            "_model_name": "LayoutModel",
            "justify_items": null,
            "grid_row": null,
            "max_height": null,
            "align_content": null,
            "visibility": null,
            "align_self": null,
            "height": null,
            "min_height": null,
            "padding": null,
            "grid_auto_rows": null,
            "grid_gap": null,
            "max_width": null,
            "order": null,
            "_view_module_version": "1.2.0",
            "grid_template_areas": null,
            "object_position": null,
            "object_fit": null,
            "grid_auto_columns": null,
            "margin": null,
            "display": null,
            "left": null
          }
        },
        "54138122eb4540ef90e1b18e1885df78": {
          "model_module": "@jupyter-widgets/controls",
          "model_name": "IntSliderModel",
          "model_module_version": "1.5.0",
          "state": {
            "_view_name": "IntSliderView",
            "style": "IPY_MODEL_e6646fef7937470ca85119d672706cfe",
            "_dom_classes": [],
            "description": "idx",
            "step": 1,
            "_model_name": "IntSliderModel",
            "orientation": "horizontal",
            "max": 3,
            "_view_module": "@jupyter-widgets/controls",
            "_model_module_version": "1.5.0",
            "value": 1,
            "_view_count": null,
            "disabled": false,
            "_view_module_version": "1.5.0",
            "min": 0,
            "continuous_update": true,
            "readout_format": "d",
            "description_tooltip": null,
            "readout": true,
            "_model_module": "@jupyter-widgets/controls",
            "layout": "IPY_MODEL_f7a95ee1c3fe46ad89d05c6d852f61d4"
          }
        },
        "1526f10d6eb7417fbac3f2274993875d": {
          "model_module": "@jupyter-widgets/output",
          "model_name": "OutputModel",
          "model_module_version": "1.0.0",
          "state": {
            "_view_name": "OutputView",
            "msg_id": "",
            "_dom_classes": [],
            "_model_name": "OutputModel",
            "outputs": [
              {
                "output_type": "display_data",
                "data": {
                  "image/png": "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\n",
                  "text/plain": "<IPython.core.display.Image object>"
                },
                "metadata": {}
              }
            ],
            "_view_module": "@jupyter-widgets/output",
            "_model_module_version": "1.0.0",
            "_view_count": null,
            "_view_module_version": "1.0.0",
            "layout": "IPY_MODEL_2b11854261c541cdb929ed0e1a993711",
            "_model_module": "@jupyter-widgets/output"
          }
        },
        "e6646fef7937470ca85119d672706cfe": {
          "model_module": "@jupyter-widgets/controls",
          "model_name": "SliderStyleModel",
          "model_module_version": "1.5.0",
          "state": {
            "_view_name": "StyleView",
            "handle_color": null,
            "_model_name": "SliderStyleModel",
            "description_width": "",
            "_view_module": "@jupyter-widgets/base",
            "_model_module_version": "1.5.0",
            "_view_count": null,
            "_view_module_version": "1.2.0",
            "_model_module": "@jupyter-widgets/controls"
          }
        },
        "f7a95ee1c3fe46ad89d05c6d852f61d4": {
          "model_module": "@jupyter-widgets/base",
          "model_name": "LayoutModel",
          "model_module_version": "1.2.0",
          "state": {
            "_view_name": "LayoutView",
            "grid_template_rows": null,
            "right": null,
            "justify_content": null,
            "_view_module": "@jupyter-widgets/base",
            "overflow": null,
            "_model_module_version": "1.2.0",
            "_view_count": null,
            "flex_flow": null,
            "width": null,
            "min_width": null,
            "border": null,
            "align_items": null,
            "bottom": null,
            "_model_module": "@jupyter-widgets/base",
            "top": null,
            "grid_column": null,
            "overflow_y": null,
            "overflow_x": null,
            "grid_auto_flow": null,
            "grid_area": null,
            "grid_template_columns": null,
            "flex": null,
            "_model_name": "LayoutModel",
            "justify_items": null,
            "grid_row": null,
            "max_height": null,
            "align_content": null,
            "visibility": null,
            "align_self": null,
            "height": null,
            "min_height": null,
            "padding": null,
            "grid_auto_rows": null,
            "grid_gap": null,
            "max_width": null,
            "order": null,
            "_view_module_version": "1.2.0",
            "grid_template_areas": null,
            "object_position": null,
            "object_fit": null,
            "grid_auto_columns": null,
            "margin": null,
            "display": null,
            "left": null
          }
        },
        "2b11854261c541cdb929ed0e1a993711": {
          "model_module": "@jupyter-widgets/base",
          "model_name": "LayoutModel",
          "model_module_version": "1.2.0",
          "state": {
            "_view_name": "LayoutView",
            "grid_template_rows": null,
            "right": null,
            "justify_content": null,
            "_view_module": "@jupyter-widgets/base",
            "overflow": null,
            "_model_module_version": "1.2.0",
            "_view_count": null,
            "flex_flow": null,
            "width": null,
            "min_width": null,
            "border": null,
            "align_items": null,
            "bottom": null,
            "_model_module": "@jupyter-widgets/base",
            "top": null,
            "grid_column": null,
            "overflow_y": null,
            "overflow_x": null,
            "grid_auto_flow": null,
            "grid_area": null,
            "grid_template_columns": null,
            "flex": null,
            "_model_name": "LayoutModel",
            "justify_items": null,
            "grid_row": null,
            "max_height": null,
            "align_content": null,
            "visibility": null,
            "align_self": null,
            "height": null,
            "min_height": null,
            "padding": null,
            "grid_auto_rows": null,
            "grid_gap": null,
            "max_width": null,
            "order": null,
            "_view_module_version": "1.2.0",
            "grid_template_areas": null,
            "object_position": null,
            "object_fit": null,
            "grid_auto_columns": null,
            "margin": null,
            "display": null,
            "left": null
          }
        },
        "eb51e934d2da451fb9198afbc014bcd0": {
          "model_module": "@jupyter-widgets/controls",
          "model_name": "VBoxModel",
          "model_module_version": "1.5.0",
          "state": {
            "_view_name": "VBoxView",
            "_dom_classes": [
              "widget-interact"
            ],
            "_model_name": "VBoxModel",
            "_view_module": "@jupyter-widgets/controls",
            "_model_module_version": "1.5.0",
            "_view_count": null,
            "_view_module_version": "1.5.0",
            "box_style": "",
            "layout": "IPY_MODEL_569f5019f46945be9dd78ee07ef06c43",
            "_model_module": "@jupyter-widgets/controls",
            "children": [
              "IPY_MODEL_a6d3db4df6c04817bbd310189e8127f5",
              "IPY_MODEL_b030599de0fc430bb9decf4eee8f4e6a"
            ]
          }
        },
        "569f5019f46945be9dd78ee07ef06c43": {
          "model_module": "@jupyter-widgets/base",
          "model_name": "LayoutModel",
          "model_module_version": "1.2.0",
          "state": {
            "_view_name": "LayoutView",
            "grid_template_rows": null,
            "right": null,
            "justify_content": null,
            "_view_module": "@jupyter-widgets/base",
            "overflow": null,
            "_model_module_version": "1.2.0",
            "_view_count": null,
            "flex_flow": null,
            "width": null,
            "min_width": null,
            "border": null,
            "align_items": null,
            "bottom": null,
            "_model_module": "@jupyter-widgets/base",
            "top": null,
            "grid_column": null,
            "overflow_y": null,
            "overflow_x": null,
            "grid_auto_flow": null,
            "grid_area": null,
            "grid_template_columns": null,
            "flex": null,
            "_model_name": "LayoutModel",
            "justify_items": null,
            "grid_row": null,
            "max_height": null,
            "align_content": null,
            "visibility": null,
            "align_self": null,
            "height": null,
            "min_height": null,
            "padding": null,
            "grid_auto_rows": null,
            "grid_gap": null,
            "max_width": null,
            "order": null,
            "_view_module_version": "1.2.0",
            "grid_template_areas": null,
            "object_position": null,
            "object_fit": null,
            "grid_auto_columns": null,
            "margin": null,
            "display": null,
            "left": null
          }
        },
        "a6d3db4df6c04817bbd310189e8127f5": {
          "model_module": "@jupyter-widgets/controls",
          "model_name": "IntSliderModel",
          "model_module_version": "1.5.0",
          "state": {
            "_view_name": "IntSliderView",
            "style": "IPY_MODEL_ae50d60062b44ceebbb320c0aae87dd8",
            "_dom_classes": [],
            "description": "idx",
            "step": 1,
            "_model_name": "IntSliderModel",
            "orientation": "horizontal",
            "max": 9,
            "_view_module": "@jupyter-widgets/controls",
            "_model_module_version": "1.5.0",
            "value": 9,
            "_view_count": null,
            "disabled": false,
            "_view_module_version": "1.5.0",
            "min": 0,
            "continuous_update": true,
            "readout_format": "d",
            "description_tooltip": null,
            "readout": true,
            "_model_module": "@jupyter-widgets/controls",
            "layout": "IPY_MODEL_b8043457fbc64145acdb3cc12cc71790"
          }
        },
        "b030599de0fc430bb9decf4eee8f4e6a": {
          "model_module": "@jupyter-widgets/output",
          "model_name": "OutputModel",
          "model_module_version": "1.0.0",
          "state": {
            "_view_name": "OutputView",
            "msg_id": "",
            "_dom_classes": [],
            "_model_name": "OutputModel",
            "outputs": [
              {
                "output_type": "display_data",
                "data": {
                  "image/png": "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\n",
                  "text/plain": "<IPython.core.display.Image object>"
                },
                "metadata": {}
              }
            ],
            "_view_module": "@jupyter-widgets/output",
            "_model_module_version": "1.0.0",
            "_view_count": null,
            "_view_module_version": "1.0.0",
            "layout": "IPY_MODEL_f4fa112e84454d998b8a1cb23015f1cd",
            "_model_module": "@jupyter-widgets/output"
          }
        },
        "ae50d60062b44ceebbb320c0aae87dd8": {
          "model_module": "@jupyter-widgets/controls",
          "model_name": "SliderStyleModel",
          "model_module_version": "1.5.0",
          "state": {
            "_view_name": "StyleView",
            "handle_color": null,
            "_model_name": "SliderStyleModel",
            "description_width": "",
            "_view_module": "@jupyter-widgets/base",
            "_model_module_version": "1.5.0",
            "_view_count": null,
            "_view_module_version": "1.2.0",
            "_model_module": "@jupyter-widgets/controls"
          }
        },
        "b8043457fbc64145acdb3cc12cc71790": {
          "model_module": "@jupyter-widgets/base",
          "model_name": "LayoutModel",
          "model_module_version": "1.2.0",
          "state": {
            "_view_name": "LayoutView",
            "grid_template_rows": null,
            "right": null,
            "justify_content": null,
            "_view_module": "@jupyter-widgets/base",
            "overflow": null,
            "_model_module_version": "1.2.0",
            "_view_count": null,
            "flex_flow": null,
            "width": null,
            "min_width": null,
            "border": null,
            "align_items": null,
            "bottom": null,
            "_model_module": "@jupyter-widgets/base",
            "top": null,
            "grid_column": null,
            "overflow_y": null,
            "overflow_x": null,
            "grid_auto_flow": null,
            "grid_area": null,
            "grid_template_columns": null,
            "flex": null,
            "_model_name": "LayoutModel",
            "justify_items": null,
            "grid_row": null,
            "max_height": null,
            "align_content": null,
            "visibility": null,
            "align_self": null,
            "height": null,
            "min_height": null,
            "padding": null,
            "grid_auto_rows": null,
            "grid_gap": null,
            "max_width": null,
            "order": null,
            "_view_module_version": "1.2.0",
            "grid_template_areas": null,
            "object_position": null,
            "object_fit": null,
            "grid_auto_columns": null,
            "margin": null,
            "display": null,
            "left": null
          }
        },
        "f4fa112e84454d998b8a1cb23015f1cd": {
          "model_module": "@jupyter-widgets/base",
          "model_name": "LayoutModel",
          "model_module_version": "1.2.0",
          "state": {
            "_view_name": "LayoutView",
            "grid_template_rows": null,
            "right": null,
            "justify_content": null,
            "_view_module": "@jupyter-widgets/base",
            "overflow": null,
            "_model_module_version": "1.2.0",
            "_view_count": null,
            "flex_flow": null,
            "width": null,
            "min_width": null,
            "border": null,
            "align_items": null,
            "bottom": null,
            "_model_module": "@jupyter-widgets/base",
            "top": null,
            "grid_column": null,
            "overflow_y": null,
            "overflow_x": null,
            "grid_auto_flow": null,
            "grid_area": null,
            "grid_template_columns": null,
            "flex": null,
            "_model_name": "LayoutModel",
            "justify_items": null,
            "grid_row": null,
            "max_height": null,
            "align_content": null,
            "visibility": null,
            "align_self": null,
            "height": null,
            "min_height": null,
            "padding": null,
            "grid_auto_rows": null,
            "grid_gap": null,
            "max_width": null,
            "order": null,
            "_view_module_version": "1.2.0",
            "grid_template_areas": null,
            "object_position": null,
            "object_fit": null,
            "grid_auto_columns": null,
            "margin": null,
            "display": null,
            "left": null
          }
        },
        "8b079360c21b46a2b637cb8ac4841965": {
          "model_module": "@jupyter-widgets/controls",
          "model_name": "VBoxModel",
          "model_module_version": "1.5.0",
          "state": {
            "_view_name": "VBoxView",
            "_dom_classes": [
              "widget-interact"
            ],
            "_model_name": "VBoxModel",
            "_view_module": "@jupyter-widgets/controls",
            "_model_module_version": "1.5.0",
            "_view_count": null,
            "_view_module_version": "1.5.0",
            "box_style": "",
            "layout": "IPY_MODEL_10163880144745188d9c7b6c39612055",
            "_model_module": "@jupyter-widgets/controls",
            "children": [
              "IPY_MODEL_0bf4a42807054bc2add78ce9d70138ab",
              "IPY_MODEL_772f51fcf1c344bfbb9d2933846cc710"
            ]
          }
        },
        "10163880144745188d9c7b6c39612055": {
          "model_module": "@jupyter-widgets/base",
          "model_name": "LayoutModel",
          "model_module_version": "1.2.0",
          "state": {
            "_view_name": "LayoutView",
            "grid_template_rows": null,
            "right": null,
            "justify_content": null,
            "_view_module": "@jupyter-widgets/base",
            "overflow": null,
            "_model_module_version": "1.2.0",
            "_view_count": null,
            "flex_flow": null,
            "width": null,
            "min_width": null,
            "border": null,
            "align_items": null,
            "bottom": null,
            "_model_module": "@jupyter-widgets/base",
            "top": null,
            "grid_column": null,
            "overflow_y": null,
            "overflow_x": null,
            "grid_auto_flow": null,
            "grid_area": null,
            "grid_template_columns": null,
            "flex": null,
            "_model_name": "LayoutModel",
            "justify_items": null,
            "grid_row": null,
            "max_height": null,
            "align_content": null,
            "visibility": null,
            "align_self": null,
            "height": null,
            "min_height": null,
            "padding": null,
            "grid_auto_rows": null,
            "grid_gap": null,
            "max_width": null,
            "order": null,
            "_view_module_version": "1.2.0",
            "grid_template_areas": null,
            "object_position": null,
            "object_fit": null,
            "grid_auto_columns": null,
            "margin": null,
            "display": null,
            "left": null
          }
        },
        "0bf4a42807054bc2add78ce9d70138ab": {
          "model_module": "@jupyter-widgets/controls",
          "model_name": "IntSliderModel",
          "model_module_version": "1.5.0",
          "state": {
            "_view_name": "IntSliderView",
            "style": "IPY_MODEL_0296e93410f34ca184015e0ac544d46a",
            "_dom_classes": [],
            "description": "idx",
            "step": 1,
            "_model_name": "IntSliderModel",
            "orientation": "horizontal",
            "max": 3,
            "_view_module": "@jupyter-widgets/controls",
            "_model_module_version": "1.5.0",
            "value": 1,
            "_view_count": null,
            "disabled": false,
            "_view_module_version": "1.5.0",
            "min": 0,
            "continuous_update": true,
            "readout_format": "d",
            "description_tooltip": null,
            "readout": true,
            "_model_module": "@jupyter-widgets/controls",
            "layout": "IPY_MODEL_47a420af89f54907aa2fe19eefd27b8f"
          }
        },
        "772f51fcf1c344bfbb9d2933846cc710": {
          "model_module": "@jupyter-widgets/output",
          "model_name": "OutputModel",
          "model_module_version": "1.0.0",
          "state": {
            "_view_name": "OutputView",
            "msg_id": "",
            "_dom_classes": [],
            "_model_name": "OutputModel",
            "outputs": [
              {
                "output_type": "display_data",
                "data": {
                  "image/png": "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\n",
                  "text/plain": "<IPython.core.display.Image object>"
                },
                "metadata": {}
              }
            ],
            "_view_module": "@jupyter-widgets/output",
            "_model_module_version": "1.0.0",
            "_view_count": null,
            "_view_module_version": "1.0.0",
            "layout": "IPY_MODEL_2a29e233d6334876a885307be2a4523b",
            "_model_module": "@jupyter-widgets/output"
          }
        },
        "0296e93410f34ca184015e0ac544d46a": {
          "model_module": "@jupyter-widgets/controls",
          "model_name": "SliderStyleModel",
          "model_module_version": "1.5.0",
          "state": {
            "_view_name": "StyleView",
            "handle_color": null,
            "_model_name": "SliderStyleModel",
            "description_width": "",
            "_view_module": "@jupyter-widgets/base",
            "_model_module_version": "1.5.0",
            "_view_count": null,
            "_view_module_version": "1.2.0",
            "_model_module": "@jupyter-widgets/controls"
          }
        },
        "47a420af89f54907aa2fe19eefd27b8f": {
          "model_module": "@jupyter-widgets/base",
          "model_name": "LayoutModel",
          "model_module_version": "1.2.0",
          "state": {
            "_view_name": "LayoutView",
            "grid_template_rows": null,
            "right": null,
            "justify_content": null,
            "_view_module": "@jupyter-widgets/base",
            "overflow": null,
            "_model_module_version": "1.2.0",
            "_view_count": null,
            "flex_flow": null,
            "width": null,
            "min_width": null,
            "border": null,
            "align_items": null,
            "bottom": null,
            "_model_module": "@jupyter-widgets/base",
            "top": null,
            "grid_column": null,
            "overflow_y": null,
            "overflow_x": null,
            "grid_auto_flow": null,
            "grid_area": null,
            "grid_template_columns": null,
            "flex": null,
            "_model_name": "LayoutModel",
            "justify_items": null,
            "grid_row": null,
            "max_height": null,
            "align_content": null,
            "visibility": null,
            "align_self": null,
            "height": null,
            "min_height": null,
            "padding": null,
            "grid_auto_rows": null,
            "grid_gap": null,
            "max_width": null,
            "order": null,
            "_view_module_version": "1.2.0",
            "grid_template_areas": null,
            "object_position": null,
            "object_fit": null,
            "grid_auto_columns": null,
            "margin": null,
            "display": null,
            "left": null
          }
        },
        "2a29e233d6334876a885307be2a4523b": {
          "model_module": "@jupyter-widgets/base",
          "model_name": "LayoutModel",
          "model_module_version": "1.2.0",
          "state": {
            "_view_name": "LayoutView",
            "grid_template_rows": null,
            "right": null,
            "justify_content": null,
            "_view_module": "@jupyter-widgets/base",
            "overflow": null,
            "_model_module_version": "1.2.0",
            "_view_count": null,
            "flex_flow": null,
            "width": null,
            "min_width": null,
            "border": null,
            "align_items": null,
            "bottom": null,
            "_model_module": "@jupyter-widgets/base",
            "top": null,
            "grid_column": null,
            "overflow_y": null,
            "overflow_x": null,
            "grid_auto_flow": null,
            "grid_area": null,
            "grid_template_columns": null,
            "flex": null,
            "_model_name": "LayoutModel",
            "justify_items": null,
            "grid_row": null,
            "max_height": null,
            "align_content": null,
            "visibility": null,
            "align_self": null,
            "height": null,
            "min_height": null,
            "padding": null,
            "grid_auto_rows": null,
            "grid_gap": null,
            "max_width": null,
            "order": null,
            "_view_module_version": "1.2.0",
            "grid_template_areas": null,
            "object_position": null,
            "object_fit": null,
            "grid_auto_columns": null,
            "margin": null,
            "display": null,
            "left": null
          }
        },
        "5ae78ae0ae4f4d719893ccf23d9963c7": {
          "model_module": "@jupyter-widgets/controls",
          "model_name": "VBoxModel",
          "model_module_version": "1.5.0",
          "state": {
            "_view_name": "VBoxView",
            "_dom_classes": [
              "widget-interact"
            ],
            "_model_name": "VBoxModel",
            "_view_module": "@jupyter-widgets/controls",
            "_model_module_version": "1.5.0",
            "_view_count": null,
            "_view_module_version": "1.5.0",
            "box_style": "",
            "layout": "IPY_MODEL_001f8183c9484c7aa09af4379fade9a2",
            "_model_module": "@jupyter-widgets/controls",
            "children": [
              "IPY_MODEL_d2bcf8bf249e4a81bbb192c73f678d9b",
              "IPY_MODEL_5e6ebcd69cb94175a41d2a3efdce5538"
            ]
          }
        },
        "001f8183c9484c7aa09af4379fade9a2": {
          "model_module": "@jupyter-widgets/base",
          "model_name": "LayoutModel",
          "model_module_version": "1.2.0",
          "state": {
            "_view_name": "LayoutView",
            "grid_template_rows": null,
            "right": null,
            "justify_content": null,
            "_view_module": "@jupyter-widgets/base",
            "overflow": null,
            "_model_module_version": "1.2.0",
            "_view_count": null,
            "flex_flow": null,
            "width": null,
            "min_width": null,
            "border": null,
            "align_items": null,
            "bottom": null,
            "_model_module": "@jupyter-widgets/base",
            "top": null,
            "grid_column": null,
            "overflow_y": null,
            "overflow_x": null,
            "grid_auto_flow": null,
            "grid_area": null,
            "grid_template_columns": null,
            "flex": null,
            "_model_name": "LayoutModel",
            "justify_items": null,
            "grid_row": null,
            "max_height": null,
            "align_content": null,
            "visibility": null,
            "align_self": null,
            "height": null,
            "min_height": null,
            "padding": null,
            "grid_auto_rows": null,
            "grid_gap": null,
            "max_width": null,
            "order": null,
            "_view_module_version": "1.2.0",
            "grid_template_areas": null,
            "object_position": null,
            "object_fit": null,
            "grid_auto_columns": null,
            "margin": null,
            "display": null,
            "left": null
          }
        },
        "d2bcf8bf249e4a81bbb192c73f678d9b": {
          "model_module": "@jupyter-widgets/controls",
          "model_name": "IntSliderModel",
          "model_module_version": "1.5.0",
          "state": {
            "_view_name": "IntSliderView",
            "style": "IPY_MODEL_d2e31c6309f449b390781a962823b1e3",
            "_dom_classes": [],
            "description": "idx",
            "step": 1,
            "_model_name": "IntSliderModel",
            "orientation": "horizontal",
            "max": 7,
            "_view_module": "@jupyter-widgets/controls",
            "_model_module_version": "1.5.0",
            "value": 6,
            "_view_count": null,
            "disabled": false,
            "_view_module_version": "1.5.0",
            "min": 0,
            "continuous_update": true,
            "readout_format": "d",
            "description_tooltip": null,
            "readout": true,
            "_model_module": "@jupyter-widgets/controls",
            "layout": "IPY_MODEL_f9546ae811bd484ea251115f9161c625"
          }
        },
        "5e6ebcd69cb94175a41d2a3efdce5538": {
          "model_module": "@jupyter-widgets/output",
          "model_name": "OutputModel",
          "model_module_version": "1.0.0",
          "state": {
            "_view_name": "OutputView",
            "msg_id": "",
            "_dom_classes": [],
            "_model_name": "OutputModel",
            "outputs": [
              {
                "output_type": "display_data",
                "data": {
                  "image/png": "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\n",
                  "text/plain": "<IPython.core.display.Image object>"
                },
                "metadata": {}
              }
            ],
            "_view_module": "@jupyter-widgets/output",
            "_model_module_version": "1.0.0",
            "_view_count": null,
            "_view_module_version": "1.0.0",
            "layout": "IPY_MODEL_6c2ab11e60794b46a54f46aa54046517",
            "_model_module": "@jupyter-widgets/output"
          }
        },
        "d2e31c6309f449b390781a962823b1e3": {
          "model_module": "@jupyter-widgets/controls",
          "model_name": "SliderStyleModel",
          "model_module_version": "1.5.0",
          "state": {
            "_view_name": "StyleView",
            "handle_color": null,
            "_model_name": "SliderStyleModel",
            "description_width": "",
            "_view_module": "@jupyter-widgets/base",
            "_model_module_version": "1.5.0",
            "_view_count": null,
            "_view_module_version": "1.2.0",
            "_model_module": "@jupyter-widgets/controls"
          }
        },
        "f9546ae811bd484ea251115f9161c625": {
          "model_module": "@jupyter-widgets/base",
          "model_name": "LayoutModel",
          "model_module_version": "1.2.0",
          "state": {
            "_view_name": "LayoutView",
            "grid_template_rows": null,
            "right": null,
            "justify_content": null,
            "_view_module": "@jupyter-widgets/base",
            "overflow": null,
            "_model_module_version": "1.2.0",
            "_view_count": null,
            "flex_flow": null,
            "width": null,
            "min_width": null,
            "border": null,
            "align_items": null,
            "bottom": null,
            "_model_module": "@jupyter-widgets/base",
            "top": null,
            "grid_column": null,
            "overflow_y": null,
            "overflow_x": null,
            "grid_auto_flow": null,
            "grid_area": null,
            "grid_template_columns": null,
            "flex": null,
            "_model_name": "LayoutModel",
            "justify_items": null,
            "grid_row": null,
            "max_height": null,
            "align_content": null,
            "visibility": null,
            "align_self": null,
            "height": null,
            "min_height": null,
            "padding": null,
            "grid_auto_rows": null,
            "grid_gap": null,
            "max_width": null,
            "order": null,
            "_view_module_version": "1.2.0",
            "grid_template_areas": null,
            "object_position": null,
            "object_fit": null,
            "grid_auto_columns": null,
            "margin": null,
            "display": null,
            "left": null
          }
        },
        "6c2ab11e60794b46a54f46aa54046517": {
          "model_module": "@jupyter-widgets/base",
          "model_name": "LayoutModel",
          "model_module_version": "1.2.0",
          "state": {
            "_view_name": "LayoutView",
            "grid_template_rows": null,
            "right": null,
            "justify_content": null,
            "_view_module": "@jupyter-widgets/base",
            "overflow": null,
            "_model_module_version": "1.2.0",
            "_view_count": null,
            "flex_flow": null,
            "width": null,
            "min_width": null,
            "border": null,
            "align_items": null,
            "bottom": null,
            "_model_module": "@jupyter-widgets/base",
            "top": null,
            "grid_column": null,
            "overflow_y": null,
            "overflow_x": null,
            "grid_auto_flow": null,
            "grid_area": null,
            "grid_template_columns": null,
            "flex": null,
            "_model_name": "LayoutModel",
            "justify_items": null,
            "grid_row": null,
            "max_height": null,
            "align_content": null,
            "visibility": null,
            "align_self": null,
            "height": null,
            "min_height": null,
            "padding": null,
            "grid_auto_rows": null,
            "grid_gap": null,
            "max_width": null,
            "order": null,
            "_view_module_version": "1.2.0",
            "grid_template_areas": null,
            "object_position": null,
            "object_fit": null,
            "grid_auto_columns": null,
            "margin": null,
            "display": null,
            "left": null
          }
        }
      }
    }
  },
  "cells": [
    {
      "cell_type": "markdown",
      "metadata": {
        "id": "view-in-github",
        "colab_type": "text"
      },
      "source": [
        "<a href=\"https://colab.research.google.com/github/Thomas-TTC/GameProject/blob/main/problem_set_01.ipynb\" target=\"_parent\"><img src=\"https://colab.research.google.com/assets/colab-badge.svg\" alt=\"Open In Colab\"/></a>"
      ]
    },
    {
      "cell_type": "markdown",
      "metadata": {
        "id": "wtYhEJOLntKg"
      },
      "source": [
        "# COMP90054 AI Planning for Autonomy\n",
        "### Problem Set 01 - Blind Search\n",
        "\n",
        "\n"
      ]
    },
    {
      "cell_type": "markdown",
      "metadata": {
        "id": "gzM1qCxE1yDN"
      },
      "source": [
        "### Key concepts:\n",
        "- State-space model\n",
        "- Blind search algorithms: BFS, DFS and ID"
      ]
    },
    {
      "cell_type": "markdown",
      "metadata": {
        "id": "dg5pdTSv10rD"
      },
      "source": [
        "\n",
        "### Set up the environment:\n",
        "- Please run the following blocks of code to initialise the *environment*"
      ]
    },
    {
      "cell_type": "code",
      "metadata": {
        "colab": {
          "base_uri": "https://localhost:8080/"
        },
        "id": "oaRPfefQPliF",
        "outputId": "ebeb862b-8f92-427a-9609-ad5467d741a3"
      },
      "source": [
        "!pip install pydotplus"
      ],
      "execution_count": 2,
      "outputs": [
        {
          "output_type": "stream",
          "name": "stdout",
          "text": [
            "Requirement already satisfied: pydotplus in /usr/local/lib/python3.7/dist-packages (2.0.2)\n",
            "Requirement already satisfied: pyparsing>=2.0.1 in /usr/local/lib/python3.7/dist-packages (from pydotplus) (3.0.7)\n"
          ]
        }
      ]
    },
    {
      "cell_type": "code",
      "metadata": {
        "id": "mAX5ynV3OF2X"
      },
      "source": [
        "import numpy as np\n",
        "import pydotplus\n",
        "from IPython.display import display, Image\n",
        "from ipywidgets import interact"
      ],
      "execution_count": 3,
      "outputs": []
    },
    {
      "cell_type": "code",
      "metadata": {
        "id": "BNTVpXp5Pe0v"
      },
      "source": [
        "# Class of the problem\n",
        "\n",
        "class Problem():\n",
        "  initial_state = None\n",
        "  state_space = None\n",
        "  goal_states = None\n",
        "  actions = None\n",
        "  transition_function = None\n",
        "  costs = None\n",
        "\n",
        "  def __init__(self, initial_state, state_space, goal_states, actions, transition_function, costs):\n",
        "    self.initial_state = initial_state\n",
        "    self.state_space = state_space\n",
        "    self.goal_states = goal_states\n",
        "    self.actions = actions\n",
        "    self.transition_function = transition_function\n",
        "    self.costs = costs\n",
        "\n",
        "    self.current_state = self.initial_state\n",
        "    \n",
        "    return \n",
        "  \n",
        "# Helper function to visualize the problem (i.e. draw state transition graph) \n",
        "def generate_state_graph(problem):\n",
        "  state_graph={}\n",
        "  state_graph['nodes'] = {k:{'label':'\\\"{}\\n{}\\\"'.format(k,' ')} for k in sorted(list(problem.state_space))}\n",
        "  state_graph['nodes'][problem.initial_state]['color'] = 'green'\n",
        "  for goal in problem.goal_states:\n",
        "      state_graph['nodes'][goal]['shape'] = 'doublecircle'\n",
        "  state_graph['edge'] = {k:{'label':str(problem.costs[k])} for k in problem.costs.keys()}\n",
        "  return state_graph\n",
        "\n",
        "def render_graph(param):\n",
        "  s = ''\n",
        "  s += 'digraph G { \\n'\n",
        "\n",
        "  for node,tdict in param['nodes'].items():\n",
        "    tstr = node + ' '\n",
        "    if bool(tdict):\n",
        "      tstr += '['\n",
        "      for k,v in tdict.items():\n",
        "        tstr += '{}={},'.format(k,v)\n",
        "      tstr = tstr[:-1] + ']'\n",
        "    tstr += ';\\n'\n",
        "    s+=tstr\n",
        "  \n",
        "  for edge,tdict in param['edge'].items():\n",
        "    tstr = edge[0] + '->' + edge[1] + ' '\n",
        "    if bool(tdict):\n",
        "      tstr += '['\n",
        "      for k,v in tdict.items():\n",
        "        tstr += '{}={},'.format(k,v)\n",
        "      tstr = tstr[:-1] + ']'\n",
        "    tstr += ';\\n'\n",
        "    s+=tstr\n",
        "  s += ' \\n}'\n",
        "\n",
        "  #print (s)\n",
        "  graph = pydotplus.graph_from_dot_data(s)\n",
        "  return graph.create_png()\n",
        "\n",
        "\n",
        "# Visulize the search process (not required)\n",
        "def visulize_search_process(nodes,problem):\n",
        "    progress = []\n",
        "\n",
        "    for i,(state,value,parent) in enumerate(nodes):\n",
        "        param = {}\n",
        "        param['nodes'] = {str(k):{'label':'\\\"n{}\\n{},{},{}\\\"'.format(k,state,cost,parent)} for k,(state,cost,parent) in enumerate(nodes[:i+1])}\n",
        "        \n",
        "        # The newly generated node is red while all other nodes are green \n",
        "        for k in param['nodes']:\n",
        "            param['nodes'][k]['color'] = 'green'\n",
        "        param['nodes'][str(i)]['color'] = 'red'\n",
        "\n",
        "        # Black edges\n",
        "        param['edge'] = {(str(parent), str(k)): {'label': str(problem.costs[(nodes[parent][0], state)])} for k, (state, cost, parent) in enumerate(nodes[:i+1]) if not parent is None}\n",
        "        for edge in param['edge']:\n",
        "            param['edge'][edge]['color'] = 'black'\n",
        "\n",
        "        progress.append(param)\n",
        "\n",
        "    prog_imgs = [render_graph(param) for param in progress]\n",
        "    def show_img(idx):\n",
        "        return display(Image(prog_imgs[idx]))\n",
        "    interact(show_img,idx=(0,len(prog_imgs)-1,1))\n",
        "\n",
        "\n",
        "    \n"
      ],
      "execution_count": 4,
      "outputs": []
    },
    {
      "cell_type": "markdown",
      "metadata": {
        "id": "U8f4i2S328SJ"
      },
      "source": [
        "\n",
        "\n",
        "---\n",
        "\n",
        "\n",
        "### Example:\n"
      ]
    },
    {
      "cell_type": "markdown",
      "metadata": {
        "id": "3Lus_uhCByRd"
      },
      "source": [
        "#### State transition graph:\n",
        "\n",
        "![image.png](data:image/png;base64,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)\n"
      ]
    },
    {
      "cell_type": "markdown",
      "metadata": {
        "id": "CqyZC6ql7Njk"
      },
      "source": [
        "#### Code to auto generate state space model (you don't have to use it)"
      ]
    },
    {
      "cell_type": "code",
      "metadata": {
        "colab": {
          "base_uri": "https://localhost:8080/"
        },
        "id": "45Gjrc3u6dU_",
        "outputId": "5510fcfc-6294-4e2f-84d4-f44c1e1ca567"
      },
      "source": [
        "# Code to auto-generate state space model\n",
        "\n",
        "states = set(['s{}'.format(i) for i in range(1,8)])\n",
        "ini_st = 's1'\n",
        "goal_sts = set(['s7'])\n",
        "\n",
        "costs = {\n",
        "    ('s1','s2'):2,\n",
        "    ('s1','s3'):2,\n",
        "    ('s1','s4'):1,\n",
        "    ('s2','s5'):2,\n",
        "    ('s3','s7'):10,\n",
        "    ('s4','s6'):1,\n",
        "    ('s5','s7'):3,\n",
        "    ('s6','s7'):4,\n",
        "}\n",
        "\n",
        "\n",
        "actions = {'s{}'.format(i): set() for i in range(1,8)}\n",
        "for k1,k2 in costs.keys():\n",
        "  actions[k1].add((k1,k2))\n",
        "\n",
        "tranf = {(k[0],k):k[1] for k in costs.keys()}\n",
        "\n",
        "prob = Problem(initial_state=ini_st, state_space=states, goal_states=goal_sts, actions=actions, transition_function=tranf, costs=costs)\n",
        "\n",
        "print ('initial_state={}'.format(prob.initial_state))\n",
        "print ('state_space={}'.format(prob.state_space))\n",
        "print ('goal_states={}'.format(prob.goal_states))\n",
        "print ('actions={}'.format(prob.actions))\n",
        "print ('transition_function={}'.format(prob.transition_function))\n",
        "print ('costs={}'.format(prob.costs))\n"
      ],
      "execution_count": 5,
      "outputs": [
        {
          "output_type": "stream",
          "name": "stdout",
          "text": [
            "initial_state=s1\n",
            "state_space={'s4', 's2', 's5', 's7', 's1', 's6', 's3'}\n",
            "goal_states={'s7'}\n",
            "actions={'s1': {('s1', 's2'), ('s1', 's4'), ('s1', 's3')}, 's2': {('s2', 's5')}, 's3': {('s3', 's7')}, 's4': {('s4', 's6')}, 's5': {('s5', 's7')}, 's6': {('s6', 's7')}, 's7': set()}\n",
            "transition_function={('s1', ('s1', 's2')): 's2', ('s1', ('s1', 's3')): 's3', ('s1', ('s1', 's4')): 's4', ('s2', ('s2', 's5')): 's5', ('s3', ('s3', 's7')): 's7', ('s4', ('s4', 's6')): 's6', ('s5', ('s5', 's7')): 's7', ('s6', ('s6', 's7')): 's7'}\n",
            "costs={('s1', 's2'): 2, ('s1', 's3'): 2, ('s1', 's4'): 1, ('s2', 's5'): 2, ('s3', 's7'): 10, ('s4', 's6'): 1, ('s5', 's7'): 3, ('s6', 's7'): 4}\n"
          ]
        }
      ]
    },
    {
      "cell_type": "markdown",
      "metadata": {
        "id": "prqvYVNs7Z8g"
      },
      "source": [
        "#### Code to define the problem (i.e. state space model)"
      ]
    },
    {
      "cell_type": "code",
      "metadata": {
        "id": "EA7bnF0C51QK"
      },
      "source": [
        "initial_state = 's1'\n",
        "state_space = {'s3', 's5', 's1', 's2', 's4', 's7', 's6'}\n",
        "goal_states = {'s7'}\n",
        "actions = {'s1': {('s1', 's3'), ('s1', 's2'), ('s1', 's4')}, 's2': {('s2', 's5')}, 's3': {('s3', 's7')}, 's4': {('s4', 's6')}, 's5': {('s5', 's7')}, 's6': {('s6', 's7')}, 's7': set()}\n",
        "transition_function = {('s1', ('s1', 's2')): 's2', ('s1', ('s1', 's3')): 's3', ('s1', ('s1', 's4')): 's4', ('s2', ('s2', 's5')): 's5', ('s3', ('s3', 's7')): 's7', ('s4', ('s4', 's6')): 's6', ('s5', ('s5', 's7')): 's7', ('s6', ('s6', 's7')): 's7'}\n",
        "costs = {('s1', 's2'): 2, ('s1', 's3'): 2, ('s1', 's4'): 1, ('s2', 's5'): 2, ('s3', 's7'): 10, ('s4', 's6'): 1, ('s5', 's7'): 3, ('s6', 's7'): 4}\n",
        "\n",
        "problem = Problem(initial_state, state_space, goal_states, actions, transition_function, costs)"
      ],
      "execution_count": 19,
      "outputs": []
    },
    {
      "cell_type": "markdown",
      "metadata": {
        "id": "HGjgFMwg7qr-"
      },
      "source": [
        "#### Generate the state transition graph for the problem:"
      ]
    },
    {
      "cell_type": "code",
      "metadata": {
        "id": "_5uctAO-9Vwe",
        "outputId": "bd059c9f-62d4-4792-ebaa-9a3e71402662",
        "colab": {
          "base_uri": "https://localhost:8080/",
          "height": 581
        }
      },
      "source": [
        "display(Image(render_graph(generate_state_graph(problem))))"
      ],
      "execution_count": 7,
      "outputs": [
        {
          "output_type": "display_data",
          "data": {
            "image/png": "[encoded data removed]",
            "text/plain": [
              "<IPython.core.display.Image object>"
            ]
          },
          "metadata": {}
        }
      ]
    },
    {
      "cell_type": "markdown",
      "metadata": {
        "id": "UC43XOxPC1AW"
      },
      "source": [
        "---\n",
        "\n",
        "\n",
        "### Problem 1:"
      ]
    },
    {
      "cell_type": "markdown",
      "metadata": {
        "id": "JnZqmp3q1kWy"
      },
      "source": [
        "\n",
        "Following the above example, define the state-space model of the graph:\n",
        "\n",
        "![image.png](data:image/png;base64,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)"
      ]
    },
    {
      "cell_type": "markdown",
      "metadata": {
        "id": "7nzYjY0-A7M8"
      },
      "source": [
        "#### Task 1: please complete the following code:"
      ]
    },
    {
      "cell_type": "code",
      "metadata": {
        "id": "6DLhMhd_75OM"
      },
      "source": [
        "initial_state= 's1'\n",
        "state_space={'s1','s2','s3','s4'}\n",
        "goal_states={'s4'}\n",
        "actions={'s1': {('s1', 's2'), ('s1', 's3')},'s2':{('s2','s3')}, 's3':{('s3','s1'), ('s3','s4')}}\n",
        "transition_function={('s1', ('s1', 's2')): 's2',('s1', ('s1', 's3')): 's3',('s2', ('s2', 's3')): 's3',('s3', ('s3', 's1')): 's1',('s3', ('s3', 's4')): 's4'}\n",
        "costs={('s1', 's2'): 1, ('s1', 's3'): 2, ('s2', 's3'): 4, ('s3', 's1'): 3, ('s3', 's4'): 5}\n",
        "\n",
        "\n",
        "problem1 = Problem(initial_state, state_space, goal_states, actions, transition_function, costs)"
      ],
      "execution_count": 8,
      "outputs": []
    },
    {
      "cell_type": "markdown",
      "metadata": {
        "id": "3GjvxMrlBMYi"
      },
      "source": [
        "#### Task 2: try to visulize the state transition graph of your model:"
      ]
    },
    {
      "cell_type": "code",
      "metadata": {
        "id": "1fYOilnZ5DU8",
        "outputId": "e3889fec-8030-4618-902f-7a4ea9ace14c",
        "colab": {
          "base_uri": "https://localhost:8080/",
          "height": 529
        }
      },
      "source": [
        "display(Image(render_graph(generate_state_graph(problem1))))"
      ],
      "execution_count": 9,
      "outputs": [
        {
          "output_type": "display_data",
          "data": {
            "image/png": "[encoded data removed]",
            "text/plain": [
              "<IPython.core.display.Image object>"
            ]
          },
          "metadata": {}
        }
      ]
    },
    {
      "cell_type": "markdown",
      "metadata": {
        "id": "S8b0115NCVL2"
      },
      "source": [
        "### Problem 2"
      ]
    },
    {
      "cell_type": "markdown",
      "metadata": {
        "id": "aZpGj7U_D2U_"
      },
      "source": [
        "Run three common blind search algorithms (i.e. BFS, DFS and ID) on the given state space model from the Example. What's the difference between the **state transition graph** and the **search tree** generated during the search process？\n",
        "\n"
      ]
    },
    {
      "cell_type": "markdown",
      "metadata": {
        "id": "0Po-5Dxr5ZKw"
      },
      "source": [
        "![image.png](data:image/png;base64,iVBORw0KGgoAAAANSUhEUgAAAPgAAAI0CAYAAAAwZOTtAAAgAElEQVR4Ae2dCfhNVffHK02aJCFFAyVFpkLI0EiSopBKqGhA0UhKikqFkFKSBkO9jaI5mjWiIg0aDA2Gonnu/a//89m959e5555zxzPtc/fyeH73nnvOPvusvb9n7732Wt+1iRgxGjAaSKwGNknsk5kHMxowGhADcNMJjAYSrAED8AQ3rnk0owED8BLpA3/IH7JRNspn//v3hXyhvpfI45fsYxqAJ6zpN8gGeUQekWEyTLpKV2kgDaS8lJdNMvyrLJXlEDlEzpAz5Aa5QV6VV+VP+TNhminNxzEAT0C7vy1vy4VyoTSUhrKZbCblpJzsL/tLF+kiQ2SITJNp8qg8Ks/Jc8K5C2WhLJAF8qw8Kw/IAzJBJsi5cq4cIUfIrrKrehVsK9tKO2kn42W8rJW1CdBSaT6CAbim7b5O1sm1cq0CMqNzbaktg2SQPCaPyXfyXVFP9Yl8IlNkivSQHlJBKsjmsrl0kA5yv9wvf8lfRZVtLg5XAwbg4eq76LutklUyUAbKNrKNVJJKMkAGyBvyRtHlehXwq/yqgN1ROiqg15SaMlkmy2/ym9cl5niMNGAAHqPGyFQVRmXAvIVsIXvIHnKz3CyAL0z5XD6Xc+Qc2Vq2VlP5e+Qe+T/5vzCrYO6VpwYMwPNUWNinA6C75W6p8r9/d8gdkRvA1sgatWZnrd9KWsl78l7YajH3y1EDBuA5KiqK09bLerX2xXDWU3rKN/JNFNXwvOc78o60kBZq6n6lXCn/lf96nmt+iEYDBuDR6D3rXZ+X59U0eC/ZK9A1dtaKZDkBUI+RMWrp0F7aCy8lI/HRgAF4fNqirCaTZJLa6jpBTijaIl5WaMAf3pQ3hZdRdakuS2VpwHczxeeqAQPwXDUVwnmsty+Xy2VT2VSuk+tCuKO/t8BTro20kYpSUV6Wl/0t3JRWkAYMwAtSm/8XAe6z5Cy1nr1L7vL/BiGVyPYZMw8s7U/IEyHd1dzGSwMG4F6aCfn4xXKxWsfiqKK7/C1/y+lyunKRfUVe0f1xtK6/AXgMmm+0jFbTcp1HbqcaATm+8HjCLZbFzp/N95A0YAAekqK9bjNbZitwT5SJXqdoe/x3+V0OlUOlhtSQb+VbbZ9D54obgEfYerid4m7aV/pGWItgb43hbU/ZU46Wo80+ebCqdi3dANxVLcEfJD67iTRR4Zxhu5wG/3Spd3hdXlf2BR13BlKfRL9vBuARtdkoGSWEZH4sH0dUg3Bve6PcKFvKlvKhfBjujUv8bgbgEXSAlbJSgRvjWqkIHm9Npam0ltYmQCXERjcAD1HZ1q2Ira4rdSMPGvnvf/8r48aNk+bNm1tVC/Qv3m741c+QGYHexxT+rwYMwP/VRSif8PCCoGG+zA/lfl43Wb58ubRs2VI22WQTadCggddpvh8/U85ULq2GEsp31boWaADuqpbgDh4lR6kIrODukL3kd999V7p06SIzZsyQhg0bhgpwdg5YixMCayR4DRiAB6/jsjsskkVqzxsutLhIs2bNQgU4z91H+sjesrehfwqhExiAh6Bk6xbEdB8oB1pfA/374osvSpMmTaR8+fKy/fbbS7169eSHH35Iu2cUAGfngICax+XxtPqYA/5qwADcX316lvaT/CTbyXZyq9zqeY5fP/z888+yww47yPXXXy+//fabrF27Vk3Jv/kmnTAiCoDznDDBdJfufj2yKcdDAwbgHorx+zDUxaw9w3DZfP/995Xx7PHHs4+QUQEc6ikizoplgPW7nZJWngF4SC2KcY0wyjDk119/lSpVqsiOO+4oV155paxYscLztlEB/Hv5XgE8SQE2nkqO8AcD8BCUT9AF2UXulDtDuNs/t2AU79ixo2y++eay6aabSvfu3QXgOyUqgFOPw+VwOVVOdVbJfPdRAwbgPirTq6gX5AW1971CvEdSr2uLPb5+/XoZMmSImrJfffXVacVFCXASN1STasazLa1V/DtgAO6fLj1LGi7DhYQBYclXX30ly5YtS7ld48aN5aSTTko5xpcoAY5nG04/H8gHafUyB/zRgAG4P3rMWMqxcqxKA5TxJB9/fPvtt6VVq1by4Ycfyh9//CGLFy+WSpUqyfjx49PuEiXASYOE4XGmzEyrlzngjwYMwP3RY8ZSyBt2lVyV8Rw/f1y5cqW0aNFCKlasKOXKlZNdd91Vhg0bJn///be6zeuvv67cVKtVq6am7rir7rLLLuqal156yc+qZC2rjtQRONWNBKMBA/Bg9FpWKj7XpBsicZ+RdA0cJ8eZ/fB0tfh2xADcN1W6F0SmTtaZpOw1kq6Bi+Si0Lz70u+e/CMG4AG3Mfm4ATiJ+4yka+AauUb5paf/Yo74oQEDcD+0mKEMUhAB8LjlFctQ5VB/IktqVaka6j1L6WYG4AG3NjznANzk03ZXNGGjOAEZCUYDBuDB6LWs1EfkEQVwQ3BQppKUD7C7YIQ0EowGDMCD0WtZqcR+M4KboIoylaR8mCyTZSfZKeWY+eKfBgzA/dOla0lQBgPw1bLa9fdSP3i9XK9400tdD0E9vwF4UJr9X7nLZJkCuEmp665osqkeIAe4/2iOFq0BA/CiVZi5gB/lR8NekkFFp8gpcowck+EM81MxGjAAL0Z7OV5LxNRYGZvj2aV12kFykFwgF5TWQ4f4tAbgISibBHz9pF8Id9LvFjvIDnK73K5fxTWpsQF4CA01QAaorB4h3EqrW3wmnyn7xKvyqlb11qmyBuAhtNYD8oCUk3Jmq8yha3jZtpFtBMYbI8FowAA8GL2mlArRIil75siclOOl/uUkOUnaSbtSV0Ogz28AHqh6/y28oTSUgTLw3wMl/ulv+VuqSBVhH9xIcBowAA9Otyklj5ARqkMbl9V/1PK0PK3W3x/JRyl6Ml/81YABuL/69CwNwkWTzeNf9ZwsJ0eeo+3f2iT3kwF4iG3bRtrIiXJiiHeM561+kB+UcQ0/dCPBasAAPFj9ppQOueDmsrl8Kp+mHC+1L9fJdcL+twnACb7lDcCD13HZHTAs7SP7SF/pW3as1D78Ir8oW8RQGVpqjx7J8xqAh6z2qTJVUQWTJ7sUBZfdbWVbWS/rS/HxQ39mA/CQVf6H/CG1pJZ0la4h3zn6262TdVJRKsqlcmn0lSmRGhiAR9DQ1hZRqeXHPk1OkxpSQ0ilbCQcDRiAh6PntLtgTWckZ01aCkJ+NrYJH5aHS+FxY/OMBuARNcWX8qWiKuojfSKqQXi3hVG2ulSX4+X48G5q7qQ0YAAeYUd4Qp5Qo1qSc2T/V/4r7aW97C67Cz75RsLVgAF4uPpOu9slcoly+khq5pMr5Aq1a0AmUSPha8AAPHydp9yRDJuMcJWlsnwsH6f8pvuXW+VWNUNha9BINBowAI9G7yl3/Vl+loPlYMUuyto8CfIf+Y8KkSU1kZHoNGAAHp3uU+68QTZIXakre8leslyWp/ym25dpMk255J4v5+tW9cTV1wA8Rk0KyFtKS2VdXyALYlSz3KsyXsarafl5cp78n/xf7heaMwPRgAF4IGotvFCm6x2kg3LnvEfuKbygkK+k3jiyQE11i9wS8t3N7bw0YADupZkIj2N4I282jiG9pFfsPb/ek/ekjtSRnWVnYevPSHw0YAAen7ZIq8lp15wm21y2jYpAw701bgJZ4kgZqbKDtpbW8oV8Ebcqlnx9DMBj2gWWLVsmW221lQwfO1xOkBMUvVEX6SJxiUJ7Up6UvWVvtZQYLaOFWYeR+GnAADx+bSJ//fWXHHTQQdK8eXP5+++/VQ2fl+dlf9lfOY30lJ6R7Zm/Iq/I4XK4bPLiJnLM38fISlkZQw2aKlkaMAC3NBGjv1dffbVsvfXWwihuF0JNp8gUFaQCM0wP6SGkJ4ZIIkjZKBtV9pFG0kjZBQ5ddaiU27ycTJs2LcjbmrJ90IABuA9K9LMIa2o+dqx3LjMADf0TzjGkJt5VdpUL5UKZL/PlV/nVl+qskTUyS2ap5cFWspVaZ/NCWSyLVfn9+vWT3XbbTX791Z/7+VJpU0iaBgzA01QS3QG3qXm22uAUM1yGS22prcC+tWwtbaWtQIl0t9wt5CfPFOTBywLG12fkGZkkk+RsOVstBXhxbCFbqOk4jisQJdrl66+/lm222UbGjBljP2w+x0wDBuAxahCvqXmuVVwtq4W9c7bW6kt9AewA1fpXQSqo0b6m1FS+7+WlfNlvnFNJKskhcogQAPOUPCXsbWeSIUOGSMWKFWXjxo2ZTjO/RagBA/AIlW+/9dKlS2XLLbf0dUQkVJPR+Tl5TsiPRi6wCxZeIE37NVXOKLwMHpKH5DV5LeMob6+n/fN3330nlSpVkmHDhtkPm88x0oABeAwa47///a8cfPDB0qxZszKreVDV+s9//iObbOJfs99www1Svnx5+fLLZATJBKX3qMr1r6WjeoIE3Hf8+PGy+eabyzvvvBP40/gN8N9++01q1Kgh55xzTuB1NzfIXwMG4PnrzNcrVq1aJdtvv71cccUVvpbrVZjfAOc+U6dOVS+oDz/80Ou25nhEGjAAj0jx1m2PPfZYqV27tjAShiFBABxnnP3331+6d+8exiOYe+ShAQPwPJTl96kzZsyQzTbbTF5++WW/i/YsLwiAc7OHH35YNt10U1m4cKHnvc0P4WvAADx8nas7fvvtt1KlSpXQ165BAZyHwrX2yCOPjEij5rZuGjAAd9NKCMd69uwp1apVE7aawpQgAf7SSy8pC/28efPCfCRzrwwaMADPoJygfnruuecUEB599NGgbuFZbpAA56bt27dXgTL/93+GzcWzEUL8wQA8RGVzqz/++EPq1Kkjxx13XMh3/ud2QQP8vffeU3aFBx98MJLnMzdN1YABeKo+Av+GOyo+3J9//nng93K7QdAA554nn3yy2hn4888/3apgjoWoAQPwEJW9cuVKBe7Ro0eHeNfUW4UB8BUrViiyittvvz315uZb6BowAA9R5R07dlT7xVGObGEAHJUOGDBAGRF/+aU0kiuG2I3yupUBeF7qKvzkhx56SO0TP//884UX4sOVYQF8/fr1ykPvuuuu86HWpohCNWAAXqjm8riOUWyPPfaQXr165XFVMKeGBXBqP3z4cNlxxx1lw4YNwTyMKTWrBgzAs6qo+BMuvPBC2WmnnWTdunXFF1ZkCWEC/KefflLOPJdcckmRtTaXF6oBA/BCNZfjdQRgbLHFFjJ58uQcrwj2tDABzpPcdNNNil9u9erVwT6YKd1VAwbgrmrx7+DRRx8tDRo0CDzOO9cahw1w9v1r1qwpZ555Zq5VNOf5qAEDcB+V6SzK8ljjb1wkbIDz3Pfcc4+UK1cujSU2LjpJcj0MwANqXQgU69atKyeccEJAdyis2CgADmNNw4YNpUuXLoVV2lxVsAYMwAtWXeYLYWmBY+2TTz7JfGLIv0YBcB5x7ty5yv/+tddeC/mJS/t2BuABtD/bQpARDh06NIDSiysyKoBT67Zt20rr1q2LewBzdV4aMADPS125nXzuuedK1apV5YcfUrnEc7s62LOiBPgbb7yhnH2efjp+iRSD1Xp0pRuA+6z7999/X/GTxTWtT5QAR9WdOnWS+vXrC+tyI8FrwADcZx3DsdaoUaPYduCoAY5fAAyys2bN8lnzpjg3DRiAu2mlwGNwq8E5/uyzzxZYQvCXRQ1wnhCX3b322kvFxgf/xKV9BwNwH9u/RYsWypBEkVdddZXst99+KuACa3qtWrXk4osvFtw3oxQL4FHWjyQJJEuYNGlSzqpgSj9u3DjF+5bzReZEMQD3qRM88sgjyoCEIQlp06aN3HLLLSrQ4scffxSAhcsqlEZRigXwqOs3ePBgqVy5sqCbbLJ8+XJp2bKlmh3hFWgkdw0YgOeuK88zLV7wk046qeycY445Js09tVu3bqqTRumXbQE86vp98803UqFCBYHhJpO8++67ykEGimmcZQzAM2kr/TcD8HSd5H3kjjvuUKNzNqcWts9Yo3/00Ud538OvCyyAu5UXdv1Gjhwp2223Xc5RduRuMwB3aznvYwbg3rrJ6RcrN1f//v2zng/RImtPAjCikkwAD7t+P//8s+yyyy7CdD0XMQDPRUup5xiAp+oj728wljAKrVmzJuO1kD6Qg+y8887LeF7QP3oBPKr6YafACPnZZ59lfXQD8KwqSjvBADxNJbkfwFMNIofLL78860Xk0CYHWS5GpayFFXGCF8Cjqh/8dHvvvXdObDcG4Pk3vAF4/joru4KtJgxFGzduLDvm9oG8Xfvss4/ANhq1uAE86vrh9EKONgxqmcQAPJN23H8zAHfXS9aj33//vVSsWFHtd2c6+b777pMmTZrIV199lem00H5zAjwO9SMLSuPGjQUvwExiAJ5JO+6/GYC76yXrUYtQMFNusYkTJwrbUVE7t9gfxg7wONWPABR2GF544QV7dVM+G4CnqCOnLwbgOakp9SRADVvoqFGjUn/43zdGJIgG+/btKxA/xEksgMexfocffrhyaPHSlwG4l2a8jxuAe+vG8xcMUsR7exnMiChjNPL6f+ONN3qWHfQPFsC96sbxqOr31ltvKW9AyCHcxADcTSuZjxmAZ9ZP2q/k9Wa7KxOh/9KlSz3BHSWAeJg4A5z6QXFVr169Mi/A119/XY3qpFq2XkrsneP3T7piI5k1YACeWT9pvw4ZMkR23nlnz9E77YKYHbAAHrNqlVXn448/VuGkEDUaKV4DBuB56JB0PDi13HDDDXlcFa9T4w5wtIXtgkwwv//+e7yUp2FtDMDzaLTLLrtMRUDhYqmr6ABwthRJsUzSBCPFacAAPEf9se+N5fyaa67J8Yp4nqYDwNHcpZdeqpZCceS1i2fLutfKANxdL2lHCWvEay3TvnfaRTE8oAvA0TNuwPgbGClcAwbgOeiOKTnkBFdccUUOZ8f7FF0AjhZHjx6dUyBPvDUebe0MwHPQP/vC2267rWBk0110ArgVijtgwADd1R5Z/Q3As6ieTrbrrrsqPrUsp2rxs04AR6FTpkxRZBqffvqpFvqNWyUNwLO0CMSAW2+9dWyCRbJUN+vPugEcOizIK08++eSsz2ZOSNeAAXi6TsqOEKu85557SpKmiLoBnMZ46KGHlAvrokWLytrGfMhNAwbgGfR01113qenhqlWrMpyl1086AhwNN2/ePHJGWr1a+p/aGoB7tBoRYaT/7d27t8cZeh7WFeD4neOLPn/+fD0VH1GtDcA9FP/YY4+paSGRYUkSXQFOG7Rr106aNm0qvHyN5KYBA3APPUG0n41hxOPSWB/WGeDvvfeeonYiyYSR3DRgAO6iJ7KTMB185ZVXXH7V+5DOAEfzJJfYd999Y0ekEddeYQDu0jLwgzMVTKLoDvDPP/9c0SxPnTo1ic3j+zOVNMAhE3CyspB1BIbPRx991Hdlx6FA3QGODsnAgvMRXO5GMmugpAHOSI0L6oUXXigrV65Umjr99NPVFDCpCeqTAPB169YpVh23uHwcYwzw/wV9SQOcaThrbbJ+Mmp37NhRfSbXWFIlCQCnbUg2Qfjuhg0byppq9uzZyusNnncj/2igpAEOa4jF82UBnb8HHHCAQBkUN0ZUPzptUgDO0qpKlSoydOhQefnll5XNhLbbdNNNtY/Z96OdrTJKGuA77LBDCsAtsDOa01FY540ZM0Yge0iKJAXgtAekEFtttZVqw80331z9LVeunJx22mlJaa6in6NkAc5aDRBboPb6S2K8559/vmhFx6WAJAAc1+EzzzxTLassYNvbjzziRv7RQMkCfO3atVnBzUj+4IMPJqqv6Axw4vHJzgqosZvYQW3/DJ+bkRIHeLbkBIzud955Z+L6ic4AJ60Rux65zLzikgsu6g5UsiM4ncX+1nd+HjduXNRtE8j9dQY4Clm4cKHianObmtvbMEnLqmI6QskCnKm320jAMd2ZUzN1CN0BzrN99tlnsvvuu3tO0wH/rbfemkkNJfNbyQKcDuBcx7HmZo2XZEkCwGmfr7/+Wu15O9uQURzD6Pnnn5/kZsz52UoW4FdddVXZFgudwtpeSXooYlIATg/fuHGjkJDQbbpOplIjIloB/I8//pAPPvhAiNXGEYVRGGrdkSNHqoyYt99+u8yaNUuRAnzxxRcZ23fgwIHqTW+B+/jjjy9LeJfxQs1/TBLAaQrcUo866ij1gravwUlWmI/g6/Dmm2+qXRM8GcePH6+WaizX+MwxqKPIgKqTX0SsAf7hhx/K5MmTpVu3brL33nunvKnLly+vMl/UrFlTateurXJZVaxYMaWhySPWuHFjAczEEJMZ1BJI/Fhv8/aHSAD+tVKQpAGcNsPjEOcWllgWyGlbL590Bgq835jFMdJXrVq17DquJ8EFLwj6HP/57HSK4pojjjhCSIhBWDFlxlFiB3CC+i+66CKpXr26Ujqpejt06KAUSed85513PBvOUjDBCDQgIYUXXHCBHHjggQr4dICDDz5YYEqF0IHGxB9d51xj1jPn+jeJAOfZCQ6CHNNuOF28eHGZWniBz5kzR7p27aryntH2GOp69eqlcqA9+eSTAjUzDlBewm+cw7nkTeOlQhmUxd47AxG5zeM0WMQC4Lz9mALVr19fKYtRmZQ1hHP65Q9OKhyCEXr27KmyZdAReFM/++yzXu2ZyONJBbjVWCzZABz/77vvPkV3zYBBZhpe8G3bthWWclji/RJAf9ttt0nr1q3VC4Z7XXzxxcoQ6Nc9Ci0nUoAzheJNyGiN5ZNQTaY7QRu6GLH333//sgCFNm3ayDPPPFOoDrW6LukApzFuueUWBTRmbviqE1PAWjoMdlzCjkeNGqXuyb3PPvtsgaQiKokM4EyX4BzHM4mtqWxGMb8V9M0336gieaEQJsqIznqMdX+SJekA//XXX+XKK69UW6DYYDCQcSxsYVaKIRj7EFt59PGffvop7GqEb0Xnbda+fXsFKNYw+ITHQaDlrVevnspiwvIgrkaTYnWVZICz/iUEmKXXhAkTBHaeqIUlJrNUjHQMaI8//nioVQp1BMd7DOUDJIxgcRMaY+zYsWqN3qRJk0inVkHpJokA//3335WBjXX3KaecImvWrAlKfQWXi2NOjx491MDGaE6dw5BQAM7DnHPOOcrwwV8S+sVZePM3aNBAvYzY+0ySJA3gn3zyiTRq1EiNkPfff3/sm2rmzJmKbgr7gJ+GPq8HDxzgP/zwgxx22GHagYWXEC8j1uakD06KJAngOJ1gsQYsOmUfXb58uXopwUjz9ttvB9q1AgU462scTXbZZRe1fx3okwRU+MSJE9X2CtOqJBAxJgXg8+bNUyMhziZOZtyAuoKvxbKTg38HRmb21YOSwACOswkWREjqV6xYEVT9QymXqR9bHmeddVYo9wvyJkkA+BNPPKEs0zip+OUnEaTOvcrGIQZDM1vEQYE8EIAzLWfkxs0vLlZyLyXnehz/d9xaYfPUWXQH+Kuvvqq8xs4444zA/SXCaGd8Pvr06aOe6bXXXvP9lr4DnO0lvIVwLohyg993TYkI6YRZkzNt11V0BvjSpUuFeIPOnTtndCnVrW2YhcDRv9NOO8myZct8rb7vAGetiv84jZFEue6669RIHsdtvlz0rSvAWWez5GvVqlXsd2FyaQfnORh1iY+oU6eOrw4xvgLcSrk7ffp0Z/0T850pVZcuXZThMI77rdkUrSvATz31VMWDnmSuNfoTBunu3btna8acf/cN4Pjg4sTC1lLShcCVvfbaS44++mjtHlVHgE+ZMkXtZGA5T7oQE0FQjF+En74BvFOnTmp6EZaHTtQNvWDBAtUQRCzpJLoBHCMtKYqIzioVIcSZ9Tg7UcWKLwAnEydugvPnzy+2Plpd37dvXzWlYkTXRXQDOK6nxFxHEagRVZsSZYlPPduAxUrRAGfEpjKskaISmDn2228/ZdxjT7FWrVrqjR90pyDxHZ5UgwcPjurR876vTgAnAIhdC2w7cRAMYfh1DBs2LPDqkECRZ2emWIwUDXAolXAC+fLLL4upR1HXEs9NDDCAw9pKJyZEj6i1oIUtM+ijdDG46QRwXJz5Hxdh6sxMNQyA88wQSMA3V4wUBXA8cTA2kZA9SjnmmGPS9kWhz6ExVq9eHWjVeKuz56/LGlEXgMPmQ/vFJYEBIylgCxPgsA1xv2JG8aIATkA7I2UcXVF56aCcMGKCyUAKuYA9V3Wgb5UiCtcF4JBwtGjRoogn9e9SCCOoC4y+YQKcJ4BDEAN2oVIUwA855BBf9+wyPcSLL74oxGgzHcaRhphyXGK9BM8gzg2DuIG1PgCHzDHuogPAWe7BUx9GqG4u/QobC2GesACFDfAHHnhA6aLQ/f+CAU4cLkaAp556KvA+TeQNjBjXX3+98mJi6wRnE4t2yVkBrJC8BPCqC0sIGoChNe6iA8DxFmSbKOgt11z6Fb7v1ggaBcAZoCpVqlRwyHLBAL/iiivU2jMTzaxfnd3KBJor3Q1GENwawwwjxAmDt3vcOd10ADg7Iv379/er+3iWk61fMTU/6KCDygzIUQCcyhPFWLduXc/nyPRDwQA/4IADZNCgQZnK9u03FE1wPA4PEOplWvOzvbDPPvtkPMe3itkKIlYcN8Nrr73WdjR+H+MOcF6QvCgZOYOWbP2K/o0XnSVRAZztQnTCrDlfKQjgeNgwPc91RM23Um7n87bF8ELIJvfGX5cGsgteZazTC12v2Msq5DPZUo488shCLg3tmrgDnO1OlldhJQ/w6lew7cKya6fwjgrgTNOx8cDnnq8UBHAIEABaJiNXvhXJ9fz169fLkCFD1BuNtDGWsB/NdlnQzi3W/dz+4j+89dZbxzraKe4AP/HEE9WL3E2/QR5z9qvevXurPsbI6fU/aLol+/Pi01FIEEpBAGcLCvN9WMKI7IyThVDipJNOUm/YSy65RHAbjZrdg6UDnSHOoaRxBzhLMZhtw5BM/crt/lGN4NQFXkCWgPlKQZG8UnwAACAASURBVADHcyxM+iLelMQBsz5jukLOKSyLkNpbhhKvt2zYhInYCUhjE1eJM8AZRWnHsKLGMvUrt/aLEuBEmaEbewJNtzo6jxUEcN4k48aNc5YV2HdCUXE0sLKH4jmGpRwLPsQSXuDmeNgAxwYQZ9/0OAOcdS9tFlaWm0z9yq0zRwlw6opu8vVqyxvg5EbmRhDfGUnXAEE3cY4TjzPASUAJy6jdsJWu4dI8wi4NGUynTZuWlwLyBrg1JeavkXQN4B+Al11cJc4AZwuUpJBG3DUAnRORk/lI3gC3ggCCDuLI5yHidO4NN9ygwmfjVCd7XeIMcKK1mjVrZq+u+WzTAMs/UiHnI3kD3Ipw0YnkIB+FFHsu4bO4WcZV4gxwdkJIZGDEXQPsy+dr3M4b4I888ohag0e9JeWuguiPEpRAhF1cJc4AJznf8ccfH1fVRV4vdIOO8pG8AU5eb4xsxEEbSdfA3XffrYwh6b/E40icAd6zZ89InFzi0TLZa4EjV740TnkD/IUXXlAAZ8/SSLoG8KirWrVq+g8xORJngONAhY+FEXcNwPAyYMAA9x89juYN8IULFyqAh5H61KPOsT58zTXXqJRNca1knAF+6aWXqpRXcdVd1PVq2LChDB06NK9q5A1w0rQyRQ/TDzevJ4r45AsvvFCFGEZcDc/bxxngxIFDAWbEXQOQm8KJkI/kDXCifDAizZo1K5/7lMy5xx57bN6GkDCVE2eAW+wlxr6T3iOInCQhAuHQ+UjeAKdwqGNxSjCSrgGIJkaMGJH+Q0yOxBngS5YsUbND40SV3lnee+89pRtn0FX6malHCgI4fGdEchlJ1YAOs5s4A5yRm1EqDC621JaL/zdrdpMvjVVBAGeE2nPPPeOvlZBrSH5n7BNhMLkW+mhxBjjPhJtvvt5ahepCp+vw8qtfv37eVS4I4BaFjLGkp+p75MiRiqcu9Wi8vsUd4AMHDpQDDzwwXkqLQW0AdyEUaQUBnJhson6I/jHyrwYOPfRQgV01zhJ3gOMpyTSd0Ewj/2iAGHB0Mnfu3LxVUhDAuQshkcat8F99b9y4UaVwuvfee/89GMNPcQc4emSXZsaMGTHUXjRVIsEIOfcKoUgrGODWTc2b9p9GJ8iERAvEy8dZ4g5wdMdWY7t27eKsxlDrRpBJ586dC7pnwQCHNB72y5tvvrmgGyftIhhnSHUbd9EB4A8++KCakobF7BLnNrOyvJCiuxApGODcDObJBg0alDwDB3uTUDk//fTThbRBqNfoAHC2ggi5HTVqVKi6iePNIHiAfxC7VyFSFMDfeecd1bFLnb4JmiaycUCrE3fRAeDo8LLLLlMdO0oa7Kjbklky+edhCSpUigI4NyWELUwK5UIfNKjr8M2HI544cB1EF4BjOYbsP0xyz7i1H+xA7FYVY+cqGuAWhVMYSQjj1gDUh20xUiWFkaPNj+fXBeA8K84d1apVizSZhR86L6QMLOaEHcP5X4wUDXBuznYZPtj5utEVU/E4XAvNL2tv3Ah1EZ0AToosqLJL0bMNpxbW3sWM3vRJXwAOASPTKXsqIV06fKH1hLIKA+NRRx1VaBGRXKcTwFEQSSRYAr377ruR6CuKmxJ0gy/A1KlTi769LwCnFqwXyMtVKpFAWHh53kIyPhbdakUUoBvAMVxi44FtNayEhEWot+hLeUbYU9l29YMf3jeAM6K1bNlS8Vpj/Uuy4IvPqHLTTTdp95i6ARwFsw2JsQkyjaQLU3Nmw37lmfcN4Cgex4Sdd9450aGkrAt322035W3lxxs27A6rI8DREamhsXfgq55UgdCUZ/TT3dlXgKN4rOk4xudLLaNDo/3yyy9q6lSzZk3RlRdeV4DTP84880ypUKGC4H+RNFm0aJHssMMOefOeZ9OD7wDnhrfeeqt6EyUp2oy1UYcOHdQM5YMPPsim19j+rjPAaQPyZOP8EeeY+3wbH18KtsTwOfd7JyoQgPOAw4cPV+tU/Ip1F+wLJ598slobvfnmm1o/js4AR/F4tmGEYha1atUqrduCypM1FKLJpk2bBrLfHxjAqfz5558v5cqVEyKtdBWm5XjrkdmRtE26i+4AR//sDUOAgC2E9NG6CjxrpMLmWYrd7/bSQaAA56ZsJ2E4wJ9WN6MUyR3YosFw+MYbb3jpUKvjSQA4CicslyQJO+64o7z44otatQGVff7555U9AZKQIEOMAwc4D3PnnXeqjXtGwqDeVH63MFthjBBMBT/++GO/i4+svKQAHAWyXj3xxBPVUnD06NFaDCDs65Mcg23W7t27+77mdnasUADOTSEkhLgd0JD+KK7CehuPPJYWBNnDMJIkSRLAaRdmhWPGjFEDCCQRa9eujW1zrVmzRo488kjFzoIPRRgz2tAAjtYBC6Bhyt6nTx9hTzlOgm857qdbbbWVkGMsjAYI+/mTBnBLfxg/MVYxZYeEJE7BPwwa9CfqVqtWrVCzAoUKcKsxCM6oXr26CiQYP368kLUhSlmxYoWKCuPFg295kqbkTr0mFeA8Jx6U5DeDv6xRo0by3HPPOR8/9O8YZhk0qBN5xcL28owE4FZjDBkyRPGYsQeIY8yPP/4YagOwn024J+sh1tr5poUJtbI+3SzJALdUxB45++Vw1OPD/thjj4U6G2PmN3v2bLX1RR3wn4hq0IgM4FZjsGYC6Hjx4KV0+umnqzV6UOwoxNlOmzZNsF7icQcTCwSSTKNKQUoB4FY7Mm0nCw8zM2L2oT/CqSQoIfCIlF5Mw7kn937rrbeCul1O5UYOcKuWuH4yXYf0nrdejRo1pG/fvirJIcaJQoW3KfuNlN2pUyc1Y2CN3aVLF/VmD+pFUmh9g76ulABu6ZIIx8GDB8suu+yigMeoPmzYMJk3b15Ry0OWlpQBvRSOKvRbCCq4V1yiKmMDcKsx+MvUGU84otOIi0VxTKGZduE8gxGFjgoXHNtZ5CxnvQXzJHzabJkwE+B6yPu4nr8Y+HCf1dWP3K6jQj+XIsAtXWF4I1aiX79+akSnX/CyZ43ctWtXBXq2dLER0Z/Y+eE/nznGb7wYONcyxlIGZCdnnXWWIt2Mk3GP544lwK0G4S+uiTQKe4esl3n7VqlSRYEW5Tr/Y8xgO47tiP79+8ukSZNk8eLFWhAi2p87qM+lDHCnTol+nD59uloiMqOrW7euCkt19inrOyGrnMO5LCsZTKA1jrPEHuCZlLf77rurNyo50jZs2FAwtWymeyTtNwPw3FqULV2YijD+wv+vq2gNcEZyk3ghv65nAJ6fvhilWSbqKloDnCkT6yIjuWvAADx3XXEmW6dM0XXdZdEW4FjH2ea6//7782uxEj/bADy/DvDkk08qgOuagEFbgBPGyZu1kJSq+TVxss42AM+vPYmboJ8RWaijaAtwotJQPGF3RnLXgAF47rriTMKE6We6kktoC3CYMFB8UuK08+t2hZ9tAJ6f7nCSop/pShGlLcCh0kXxOjN65NfV/DnbADw/PeJDTj/TlehRW4Dj44viP//88/xarMTPNgDPrwOwF04/w6NNR9EW4ND0oPg4B/hH3SHQDW679v9nnHGGIt2wH+MzKYKMpGvAsvXMnz8//UcNjmgLcPzQAbiu2xdh9A1ohkneBzsNPtde/4l8gnPcSLoGiN+mnz3++OPpP2pwRFuA4/xPx4ybc3/c2vycc85RZAN00kz/zW6Ee8sRbYjedKX/1hbgd999twr9dG8Wc9TSwMsvv5wR2HReWGPNi9LSWPpfApj8TCeUfofgjmgL8FtuuUV1zOBUk4yS8fiDe9tr9MbP+oILLkjGwwb0FBCRTJkyJaDSgy1WW4CTrphoMiPZNXDxxRdnnKa//fbb2Qsp4TMgipgwYYKWGtAW4CNGjFB0S1pqPeRKEw/vNYLDnMMob8RbA7C1stOgo2gLcEalgw46SEedR1LnvffeOw3kTM/hEDOSWQP777+/tnrSFuDnnnuutG7dOnPLmF/LNADhoEV/ZR/N8Qg0klkD8ARecsklmU+K6a/aArx3795y9NFHx1St8asWbKJsK1rg5vMBBxwQv4rGsEaHHHKIDBw4MIY1y14lbQEO8R15qYzkroGGDRuWgZzR/MYbb8z94hI+E34/XR2BtAU4ZPKQMBrJXQPjxo1TSR4YxRnBicgzkl0Dxx57rJxyyinZT4zhGdoCvG3btoKXlpHcNfDVV18pYAPu5s2b535hiZ/ZrVs3xaSqoxq0BXiTJk3koosu0lHnkda5VatWah0+efLkSOuh08179eqlrb1HW4DrvHURdOcm4wbOKzNnzpQrrrhCTS9JrYuxCOcgRnCI+w877DDp2LGjWl/iOEQOL+Kfzb54agudffbZwoxRR9EW4CQ3gLPaiKikDvics6fN1iFRY6yz8aEm9xopmwgTPe+882TQoEHCy5EsnHTcnj17KqDj8GJZ2CtXrqyyd+AObOLtRaUiOvjgg7XsatoCnE5I1pJSFvawybBhgROPK1I2ERhBIjwvql8vfjFCIyHSGDNmjBrZSQjJaE8KKOLFSQZQikLuMWY8Ooq2AN9mm21UllAdlV5snUl4x/SaEZcpNx2QfG5+Cy8IaINPPvlkQd/ly5dX+8FeLwi/7x+X8kaOHKnyj8WlPvnUQ0uAs0ZkZIF+qJSEJHhWFssjjjhCJcULKzsqudvJIsPSiD10HI3inpfLr77BjIZZko6iJcB1Z9nIt6OQJA/HHkZs9mSjzDkNSwyx+OTA3m677QTjHMeSLDqHJmsJcEjo6eylwEJy6623KiARLMJ0OS7y22+/Cf7tTNvJuKkr62gu+pw2bZrKOprLuXE7R0uAr1ixQgH8zTffjJs+fasPOcxPOOEExad2+eWXC4CKo5DZlS2krbfeWhjpkij33XefSpOl47NpCfD3339fAZy/SZQlS5YIFnGYWHSYpUD3xBYd5I54fbEPnyR59NFHVX/7448/tHssLQFucaIzkidN2M/ecccdpU2bNtrlw+JltNNOOymHmiRtqT399NMK4N9//7123U1LgFsJ4datW6edwjNVePbs2Wqqy9T8999/z3RqbH9jb56tO9blSbGyv/TSSwrga9asia3evSqmJcDhqMbIhjU9KcIogecZ3mW6M5wCbLzl8KL79ttvtW8ia8aoo1eflgBn/5t98LD2gIPuoRgL2XI69dRTE/NMRK5hRyAoSPfkFOS/Y0DRkf1GS4DfddddyrMqaOCFUT5WaNat+It7uZaGUY8g7rF8+XKpWrWqELuv88sYNhwAvnDhwiDUFGiZWgIcH3TI+nUX1tnwfTVq1ChxlmerbZidsPQYNWqUdUi7v8xGAPirr76qXd21BDhRZLhM6i4QVmy//fba5p7OVf9wim+22WbKtTbXa+J0HjsCABxXYd1ES4Cz54oRR2exkifqmvMqX92zM1C9enXBp103wckIgM+ZM0e3qouWAIfJRWdOdBxBatasKSeddJJ2HabQCmNNZ1k1ePDgQouI7Dqdg5u0BDic6DiC6CqEdxJrHdU+MVk69t13X7XnThgon3GH/eGHHwJVKfm98HYj04pugs89QTa6iZYAhyMLy6yOsnr1amV0ijLX1THHHKNIHQjaYQuLVMyEgEIPHKRgSYfs8fDDDw/yNoGUzU6Hjjx2WgIcPnTCJ3WUAQMGqNjiKP2aO3funBa8YoWjfv3114Gqdf78+Wo9+8orrwR6H78L32233QTaad1ES4CT0YRRXDdZu3atCq+EOCFuAlcbhiT2roMWyB91m4ER/37NNdcErRrfy9cS4Ky/WYfrJsOGDRNS0YYRbfXiiy8qLzLWjmzF1atXL+Mam2k7QS5hzCyeeuop9TLBQ0wXQX/YKXQTLQGOBZ3sojoJ609of4YOHRp4tfHRx4iHvwBbPMwcunTpIt98803KvWFiwdDHjAIm1unTp6f8HtQXrNLsIujEa4/L7YUXXhiUSgIrV0uAE8SgW9pbnCSYAn/44YeBNaZVsBUvT1BOJsGNlDpVqlRJJbgPk3pp+PDhyo1VF/dc6Kh1nDVqCXC82OAC00mwGTRr1iyUKrMEqFKlippy8yL0ipsH0FjSn3nmGWncuLEK8QwrBNfKdkoUnQ5C4og+ffroUNWUOmoJcBwmdOJEZ0rKaBlmogZGcbKWbL755iryrnv37hnX/hjXGM3PP//8lA4S5Be4xjHu6SDHH3+89OjRQ4eqptRRS4BjOCKiTBexwg1JJxS2MEKTHAHwXn311Z635yWEEwp0zGEJXm3169cP63ZF3QdwA3LdRDuAY6wiFhznDEtg92RdjrWYyCW2NDDCxSUOGacWLNRhETkQ/eSMXWYKjmssLqNuIxE5yXgJhDkNxUZAW2IEjLuQMYZpul3oi+yNxzlTq3YAtzjRCdawhG0zGD03bNigghkghMAzq3379tYpkf4lMwjbUGEJMwWyiGLQY9sL11AMaePHj1dWdT7jcIJrKutwfif31rbbbithbl1xfwCuQxBH//79Vd43qw1Z0pDSiZdinNMaaQdwjEAoFV42SwCPc3SE3ZPzcA2NWhg9w9zWW7lypbRo0UIqVqyopt2ws7IHb+kIcgnYVmCRYXuMGQ+je5jgttqECDMdDKZs6bFVhrz77rtq23HGjBnSsGFDA3CrMf34Cy8WwM2W3YMtDc776KOP/LhtwWWwtgVIU6dOLbiMJF+IXzqZT+MupGHG2cUp7IyYEdyplSK+WwYr5xrTWeRxxx2n3ELD8Mxy3tv+HUcSXjTQIRtJ1wAvYlxX4y7XXnutmuk462kA7tRIkd+hAAIwXnu7FP/LL78ogxv5sKMWUvpQ3zB8vKN+1kLuj4G0Tp06hVwa6jUY01jqOMUA3KmRIr9Drg9g2P7xEtabtWvXjgV7CCM39dWRU9tLv34eBzhEasVdCBXFpuEUA3CnRor8PnfuXAUYRmk3efjhh2WfffbJOMK7XRfUMYuaKS5bdkE9Z6HlYptgezPuAtkD+decYgDu1EiR3y1OdIxXTiFJHJZO9oHjIrxwGMEtC3Zc6hWXesyaNUtZ+uNSH696ePU7A3AvjRV4nFSu0Aw5ZeLEiWqvOW4jJSl/AXjc6uXUX1Tf77jjDhX5FtX9c70ve/W0ozPU1wA8Vw3meB6hjZUrVy47m5H8kksukb59+8YycQDMJXSMoJlSyhSi2QfW4OyFx12saECcqexiAG7Xhg+fCdjYc889y0qyQiMBkdv/G2+8sezcKD7gFEG9cAU1kq6BESNGKDfj9F/idYSkB7Sjc/lnAO5zOxFHTOZKS6x9cTdwcyxqgDNyUw+7551Vd/NXVLJFHRhyFy1apNqRMNfXX39dualWq1ZNHaN9YerBe5BMpHES7VxVYdWwXAbjpMhMdYFd5fbbb890Ssn+1rZtW+nXr1/sn/+DDz5QYI7CnbcY5WgHcNL90Cl0El5IF1xwgU5VDq2ujIJjx44N7X6F3gjHKkbqbC7ShZYf1HXaAfy0004LNTLLD8X37NkzLdTQj3J1L8PK+ZWNWioOz0lIKwCP2xQ8m260Azg5rnTjRL/11luVM0eYnGfZGj4Ovz/66KMqKaGTDDIOdXPWgdBWAK4LxZRVf+0ADid67969rfpr8ZeINjrHa6+9pkV9w6okSSAIpdVBCFqiDXkp6STaARx2S4LvdRP8rXXOkR2EvskQqxN1MpRWeN7pJNoB/MADDwyVPMGvxsQRB3IAI/9ogHBfRkSCh3QRGG/uvPNOXaqr6qkdwOFewzlCN7GiynB8MSJy6aWXyu677y7wmukiurH5olftAE6niNp5pZAOiUst1Ehmu0wUqMnyQlivTkKddet72gEcwkAIFnWUkSNHKvLDUg88eeSRR5T1XDf3XTgGMlFPx7FPagdwYnJ1TMRO4xOoQOyzDiSDQXZWcsux3ambwL122WWXaVVtrQBucaI/+OCDWinZXlki38hy4gw7tJ+T5M84tWBcW7hwoXaPCbU0yRp0Eq0AztSWzmHnRNdJ2dQVjyji2XXMNV2srkk0yCh47LHHFltUJNcfeuihKjgmkpsXeFOtAG65C5L7WmeBoZP0S5999pnOj5F33Yn9JvNMGBlW865cDhd06NBBSCKpk2gFcADBCB5Fji8/GxWvKJw84pJ5xc9n8yoL0skKFSoI4b66CnYDEmroJFoB3Ir9JnRPd2EWstlmm5VEQgRsJ0cddZTsvffeWtseTj31VO2WF1oB/I033lAjOKl5kiBDhw5VTJ3kBkuywH1OrjjdffHxRgwz+6offUIrgJMwjym6DtFHuTQORifYTPbdd1/5/vvvc7lEu3PmzZunWFN1yufupeSBAwcqJhev3+N4XCuAezFbxlGxudYJji8yZkBi8dtvv+V6mRbnkdWFdTfZVZMgbHHqEv1m6VsrgN9///1q3erGiW49kI5/IY7caaed1PqOUT0JgkEUnjK2ln7//fckPJJceeWVWhBE2pWtFcCJ5CGiJ4myYMECtT9OGt+oEyYWq19cUGG+JfLvxx9/LLa42Fw/evToFEbf2FQsQ0W0AjjJDapUqZLhcfT+idBJCBox5OgKDJJDwlsPnXBSbCVWr5owYYKalVjfdfirFcB5g5K4PsnCuhUiwkaNGsUmv1qu+n7ooYfUDOuYY46Rn3/+OdfLtDlvypQpyqagTYV1CxclCbudE10nRedT188//1wOOOAAlc2S3GZxF9bY0C+xw0G+76TYEZx6nz59uvLEcx6P83etRnA40Zs2bRpnffpWN4JR4AsHNGeffXZst9GYcTDbYGlBgr4kCzMU2kOnRJJaAZyOjlW2lATQsKYlAu2ee+6RuOwgfPfdd2rUhqesZcuWQsaPpIuVClqn5YdWAIdfvGPHjknvR2nPB384U1/ARMgiHS0qoGP8I54dYyf/77rrrsjqkqaogA9gBNXN0UorgHfp0kU7Z38/+xwurRiwNt10UzUtxi8grD1mHHLYB2a/HtIKnD4YxUtJyEkGwFevXq3NY2sFcKKv+vTpo41yg6ooxI1ENTGiV6xYUa3VIXX0e20I2T/LgiOPPFLdC3ADcmcK3aCeM27lYm8A4DpRTWkF8FatWql1X9waPqr6MKqOGTNGkSjQ8XbccUfp1KmT3HTTTUJgTj4jLFP+VatWyVNPPSUEwbCPvfnmmyur8XHHHSew6CTNlTbfdrMSWOjEjKsVwPEDZmpoJF0DkCjcfPPNwjIGYkoAz3/WyYcccogcf/zxcsopp8hZZ52lmF2x0DMLgMQAvnZYZqxr6tSpIyR5fOCBB0p2tE7XsKgXIDpiqq6LaAVwOh6hh0Yya4D4a3zBGY3Hjx+vZj0EfDC6s81IcAvecieeeKJKAwVHOW7AJLn/9ttvMxdewr+uX79evQR1StagFcB15KWOGx7YdmMUMpK/BnTkBNSqpTHykKnTSOEaMAAvXHcYMXk54vCii2gFcDjRseoaKVwDBuCF644rYaaZMWNGcYWEeLU2ANfx7RliO+Z8KwPwnFXleiIuuXfccYfrb3E8qA3A8aBievTkk0/GUY/a1MkAvLimwmWYsGVdRBuAQ7sLwF966SVddBvLehqAF9csEFlcf/31xRUS4tXaAJxgBgCuY8qbENsz660MwLOqKOMJuqWv1gbgS5YsUQBPAid6xh4U8I8G4MUpGGcr/AZ0EW0Abjn6405ppHANGIAXrjuuJDT2vPPOK66QEK+OJcDhCN99991lt912k3r16inyPlLO4oKJKyZuloMGDVJvUjy1jOSuAQPw3HU1e/Zs1ccI1aXPQYhJdpZ99tlH8dnDukP/pK8S2RdHiSXAURRvSsIiWXfb/3OMvUiS2HGcdDJGcteAAXjuumLHhj5G0A19zq0/8jvHv/zyy9wLDvHM2AJ87NixSql2cLt9JkzSSO4aMADPXVf49EOA6dbvrGOAG8qquEpsAW5ZzS1Fuv2tWbNmybCJ+NWBDMDz0yTZUBm93fofx/gtzrneYwtwmqFWrVqeimXaxChvJD8NGIDnpy/YW8gC6wVwji9btiy/QkM8O9YAZzvCWms7FQzACd8zkp8GDMDz0xdnH3bYYWod7uyDfMfAFmeJNcCJT3ZTKtMiLJpG8teAAXj+OsNC7mZgY/C5+OKL8y8wxCtiDXCMHISIuoH8hRdeCFFNybmVAXj+bUmuOOiw3Pohg1CcJdYAR3G9evVKM3IwLYqKNjjOjZlL3QzAc9FS+jmDBw9O64cQXvpNdJl+5+KOxB7gpO6xT49Ye8PLbaQwDRiAF6Y3OO/sIzjLxDPPPLOwwkK8KvYAJ4uEfZsCgK9bty5EFSXrVgbghbcn3pR2i/rjjz9eeGEhXRl7gKOHdu3aKV5uwN21a9eQVJPM2xiAF96uED1YAC9fvrwWNNJaAHzy5Mllin3uuecKbyFzpUoQyFTTSP4agHQRYKM/aKh1kFi2NNZz8nEROUZ4KPS/rMOh+yUQxUjhGjAjeOG6I9NLjx49FMCvvvpq1Tfpo/RV+mwcJXKAk50DEjtSA5N3i2gdpuJ2g4bz83bbbSfE5bIXDk/6s88+K7/88ksc9Ru7OhmAZ28S7D70qREjRqg+Rl+jzzn7of07fZYoM/owfZk+Td+OWkIHONtbBIiQOaN27dpKaTgMNGnSRGXeGDlypMyaNUuYipN+B6IHSPwJ2Xv00UfVaM5aCAcDUurwQkDRlEEGj2uvvVaN/FErNq73NwB3b5mVK1cqn3L6kOU9Sd+ij9HX6HPMJOm7ZIihT9I34Smgr9JnGdVJMEFftsrYd999Vd995ZVXItnaDQ3gX3zxhVxxxRUCpxWAJF3OZZddlvPo++uvv7q3jIh6U/LGPOOMM1QubQwhbdq0Ualtw8q+6Vm5mP1gAP5vg9A3pk2bJq1bt1ZLQNI8sfWVbfTN1Bet0plRMgsgz1v9+vVVn99rr70UBsIMLQ0c4MuXL1fA443GGprcYkuXLrX04PvfP//8U+bMmaPyaxLRGQAAIABJREFUbm211VaKNIKgFAwkRsQY2URUXyBpI/2RPtK9e3eZO3eu/PXXX4F1EUZ7ZgLcEyzwIvnkk08Cu59VcGAAJxDk9NNPV9tbTMXJfYXLX5jCGoj1EOunnXfeWbDGx9UYEpZeSnkEx+vslltuUcxA5Di/6KKL5Ouvvw5L9eo+YGDq1KlqvU76Z4D+zTffBFYH3wGOEkkvhBtf9erVZebMmZGDioR6NCYOMzgrvPnmm4EpNO4FlyrAsecceOCBqg8wi4w6xzk4YSkALRnxFrfddlsgOPEV4GvXrlXJ4rEoQkxHsoI4CYnbjzrqKLXeon5M50tNSg3gAOnKK69UM0nsMu+//36smpy1OvVj2t62bVvfLe++ARz+qsqVKwtWwzgnSMeKzwyDPGc0eBy2MsLscaUEcAy7rVq1Us4pjJBxlsWLF6tdJQx9Tz/9tG9V9QXgBH/giNKzZ09tjFm8hHgZ7bLLLrJo0SLfFBr3gkoF4G+//bYAFhIVYODSQZjxsgXHLpBfbEVFAZzRkDA6KjRhwgQddJhSRxTKlB2DS6m4wJYCwJ955hllWD366KO1GXDsHXPcuHEKU9iNig2LLhjgWKNPO+00tXaIKye0XWlen1mHQ73MGojQ1KRL0gFO7m7aktmkzjYWHGd4DvgQitn5KRjgAwYMUHuIvC11F96S/fv3V88zf/583R8nY/2TDHBmYexr0zeLHfkyKjGkH1mL8zzFZFIpCOCWVfKBBx4I6VGDvw0donfv3mq6zvotqZJUgL/11luq7XAVLWbEi1u7k12FXSlcuAuRvAFOB8GgplMS9FwVw5Suffv2iuyeLb8kShIBTmppjKUdOnTQelru1d/YAQBzLD/ylbwAjmtdhQoVZODAgfneR5vzMbxhXT/00ENjz7dViFKTBnBG6yOPPFIFHSU5lJjgLIzBH330UV7NnjPAf/vtN2nQoIHyBEt6AAfbZqx9CBdMmiQN4AQw4dPwzjvvJK2pUp4HzBG2SpqkfPCXM8BJ4cIb5PPPP0+5cVK/TJw4Ubk16rKHmms7JAng+DKwPsW/vBSEdF7EVcCBkKvkBHAiwnhLsj9XKsLUr3nz5irGPAkWWavdkgJwq32aNm2aKKOa1U5ef3EqY3aJ23UukhPAjzjiCDU9DzKcLlNlsSDa2TOsz3Xr1s10WdG/4T5IxA8xw0mRpAB8ypQpavR+7733ImsajLIkHiSHHoFM2KfokytWrAisTtyTnOQYg3ORrABnXxhAwUgRlUQFcJ4X40aNGjVCD3UNStdJADhrUKKwojb2du7cWRlkiVRj8CP0tFOnToHyHdAvyOoDJl966aWs3SQrwLEmH3744VkLCvIEAD59+vQgb+FZNgELeBQlZVswCQAnrp9papjMKM4Oct9996mtq6hsNARKsXuQTTICHL4p3hTPP/98tnIC/T1KgPNgffv2FXKRR7VE8VO5ugOcKSrUR8ysohRonogvj0rw2gObCxYsyFiFjACHIrZZs2YZC/DrxxdffFGR1cE7jbWedQY0tUjUAIdgj4Caxx57zK/Hjawc3QEO8SZtEcZujlefhJWFWR0cgFGKRVSaqQ6eAAdc22yzjWDMCFqgqd1hhx3k+uuvV9ki8CLr0qVLGZUNAIcdhgyPGDMgboTtEvfEsISlygknnBDW7QK7j+4Ap90x+gYtmfokRjRGT4hDIWnAi44lQ506dWTSpEmh+cHDawBGMxGreAIcYLM19t133wWtS8WygcK8cj2tXr1asGhDnMjbk6UDG/6M9mExdGBJ560N/ZPOojPA0T1tEIY9hn7l1SchDeU31sBMkaF/wotuyJAh6jhUTGEICRd4sWTa5fEEOIY12CbDEGhoCc5nhCaQJZdtBpwcUHJYazHekrwtIczTWXQGOD7ZOHowugYtmfokfiH0vUGDBqVUg8GHrTLW52EJs0py93mJK8BxS2X0vvvuu72u8/04b8yOHTuqvU0c63m5ZOKfxtGBPeowLfyQQ2CX0Fl0BjiJJ8kcEpZ49UlmkgAcHgGnwIHOFl5YwoDDwOPlvuoK8Hnz5qkHINtD2ALdsjXVIVOEl2DR5kVABFFYMnr0aDXT0NmzTVeAo3M4/+AzD1vc+iRpivANd8r+++8v/A9LwCgvGwyCbuIK8Msvv1zxNrtdEMQxiA+XLVuWUrSVe4yDjJxOee2119SDYYALSxYuXKjuGda6P4jncgKcmRAuyLjleglOTi1atFA2DwxK0A57jRheZRR7HI81OjK2mDAkW58EIwww7LBYAkPqtttuG9rS1rovW7jEiriJK8CZKkP+FpZAsAD75YcffqiMaDRipUqVZPz48aoKuP/hWIDBj31QwM1bcvfddw/V6MWsAaNGWEaUIPRvBzhryZYtWyrgECnoJrzMMGYStcXaF92TRKJPnz5upwd27N5771XLRmiQw5BsfRIDF7s59FsyjGIAhEmGLbywI9tYNuJB5yauACfpWqbpsVtBxRxjmsEIQbIE1tWkdxk2bFhZPDbZSfD35e1I9BBbZjifhJ2VgmeEpZPOrqtYAMdIyVYkLyu2e7wAji0ExxL7suTGG29Uoxcv5LCEPHb4RoQl2fok9cDLEXDRb3nxE/hCgsKwBcM0HAZukgZwLIGAiI5gJF0DJH7v1q1b+g+aHLEAbq8uzkxuAGfGgtUaKiu7MKozXcYmEZZgLT7xxBPDup1W94GgEf8QZrdOSQO4tQVQSlzhTqVk+k4CuShdFDPVLZff8gE4IYkA2bm+Y5eF4/CfhSX4PVx66aVh3U6r+7CcoD2IF3dKGsCtk8NwBXRWRofv5B9nuaCr5ANwopXoOEzJncK6PMwtSpYJYc4YnM8b5+8Am3ZyG5TTAE5gCScHmfEwzsrKVrebb75ZbZVlOy+uv+cDcPJb0xfciD5wLcZuEpZg2CsV5pZ8dbpu3TrVTm5bZWkAJ6CCRg17GyTfh4rqfJx/GL10lXwA/vLLL6u+AIuIU3CECnMEx4iFJd1IugZwCAOzc+bMSfsxDeCPPPKIOtltwZ52dQkewOqMQUNXyQfglj2GPV+7sN9Lh3Lz5LKf5+dndK7z9qSfunCWBVZpDyLtnJIGcCvOlH0+I+kaIIKHPXpdJR+AY0UndJc0QHaxnE7cRnb7eX5+Zisq7hlC/XzefMpiDx6A44HqlDSAQz/DyWzeG0nXACGtODjoKvkAnGdkH3yPPfZIITbE2IUXV74c3cXoDKcmN2NfMWUm5VorfNUtfDoN4LiMAnBC4oykawAHHAIKdJV8Ac6eN+ttpumWJxszmLA92XBy0dnBKMj+Ys2o3ByP0gBOpAxvZ7cFe5CV1KVs9n6PPfZYXaqbVk8L4MTU46ZarVo19ULnpY6fOZZxJ5kf3/HSwtDF+fgChG2EJajIuVRIe7gSPcDaG8yCXaekAZwTCHcz0yGnqv75ThAMeZt1FQvgutWfPPRQFBlJ1wBLJpYwbuIK8MMOO0zOPPNMt/NL+hj+2BiddGZY1RXgGNjYezeSrgGWS14Mq64AJx/xQQcdlF5SiR8h+SJTWSKqdBVdAf7qq68q3dvDM3VtA7/rjRuvk13GuocrwB9++GEV1WW2yiw1/fOXUYSINgJydBVdAY7O0b3ulFl+9xu2yDIx/roCHBI5LnLbOPe7gjqVB2VQmAwyQehGV4CjC4g/wgxwCUL/fpf54IMPqsHYixzVFeBUAmPSueee63d9tC0Ppw/8oaOgDPJTaToDHGNS1apVy3gC/NSLrmX169dP7XB41d8T4KNGjVIeWzpPR70eupDjUDqzFeEWkldIeVFdozPAcZ2lDZ555pmo1Ber+4JNfBJwvvIST4DDVgG7yuzZs72uLanjeHSFSYcblHJ1Bjg6gTvOTNP/6R0PPfSQWkqDVS/xBDgXEC0Eg0mpC+sbIsh03h6z2lB3gGPohCaYRAOlLvCweW2PWbrJCHA6A6N4mD7HVsXi9BfmVpIyWLnS4lS3fOuiO8ABNskFyMtdyvLBBx+o0ZtRPJNkBDiUujCaOjm5MhWYtN/wv8a45qQt0vU5dQc4eicegLWnm2umru2Sb71hPYYAFIxmkowA58J77rlHkTCWqoMBllu819g6TIIkAeCwDbEnrvuORqH9CWMjM+tc4uOzApztIShZyepYagItM9PBJEUxJQHg9MOhQ4eqZROZaEtNSN9EXoBcOOKzAhzlwfXE9kQS8mPn0xlOOukk5cQfRrK7fOpVzLlJATisMhAxhskqU4ze/boWxiWwOH/+/JyKzAnglMTWBIH/pbLuYa8Vv/O5c+fmpEhdTkoKwNE3W7h0djcmE13aI596kuG2Ro0actppp+V8Wc4AZypEil/ds2vmopk1a9ao2Gj2vpMmSQI4bUMyBDLhwCyadKE/4smXz7PmDHCUx7SAxX2SubGwSrK3SPqmJO61Jg3g+CiQfO/QQw/NaU2q60tg0qRJalsMKut8JC+AUzDbRVD46BwymUlBsJXwfGEnkMtUJz9/SxrA0Q1ZX2GbIe10EoXsrjzfVVddlffj5Q1wLHdY1HfaaSfROY2um6bGjh2r1nS5bD+4Xa/DsSQCHL2znct63MpIq0Nb5FLHJUuWqOSGnTt3zrrn7VZe3gCnEHJTtWnTRlE7weiYBLE6iFsWjyQ8n/UMSQU4z8e+OCCfPn269bha/yV9GPaFtm3bKswV8jAFAZwbsT6FSYJUvrqP5KTEwbaQ1CmevWMkGeA8J21IW06ePNn+2Np9ZuSGGxGMFWMLKhjgaAwDBxFW+GmT5kY3gWON3Mq89flbCpJ0gNOGFm+7rtlI8TsBU4zcXkQOufbVogDOTZiuk7sZw5ROb03eimyxkAv9rrvuylVf2p9XCgCnke68807Vtmwt6RQkhLUcgxrsQX5QUxcNcJSJ4Q13TmieqFgxU4owEEQGCLZW4Pgmm2opSakAnDYlDRf7xqR7xtIeZ2GkZqBkeTFixIiCDGpuz+cLwK2C2ScHNHA041IXN8HlFB/mLbfcUvF75eMwELdnKbQ+pQRwdITT0hFHHKHanCg0XFzjJoR84qGGQe2FF17wtXq+ApyaARr8g1nXtm/fXoh8iYOgRF48rG0mTpzo2xsyDs+WTx1KDeDoBuclts8IHMLdGtbgOAg8C+3atVNYwf10/fr1vlfLd4BbNcToRg4va9pOzrOwhYYlBRNpd3jh0MCzZs0Kuxqxul8pAtxqAEbzhg0bqr7QoEEDtXeeS0SWdb1ff9l1Ig0T9h/qgSNLUBIYwKkwoaY4jUAaAdBxkCFAIGgiR/zmb7rpJhUQz31Z2yxevFhwFsAFNej7B9VYfpRbygDH3kIAEdui9An6BmGXEyZMyMu/u5B2oM9BQ05eOwYbkinOnDkzcPfaQAFuKYLtKB6OlEgoFTaOc845R0Vq+WXhxCkAUvyjjz5avRlJc3PGGWcI1DaWcA7W/qQ7s1jP6/a3VAHObA4qcGKpLaFv0EfoK4ym/Ib1nX7ih2BsZgZ51llnKc9P+j4YAAtgIgwJBeD2B4EBkn1Ka6qEYps1aybnn3++2mYj9G/16tWexhCsjTQMSoIutlevXipfN29myPh4Q95///3y66+/2m9b9vmyyy5TDcp0rRSlVAHOyx8LtZtTFn3lvvvuk44dOypyTfoSseb0LfoYfY3UvF570hju6LP03VtvvVX1ZZaF3A9Q46xCOZnYT4Pqi6ED3P4gGBXIzECCBUBesWJFNYVCwfxHORyrXLmyok2yjvOXaQ5GMyK/2FZgzZ/L1JvG4DoI40tRShHgcBiwu5NLIg/2nkmXjOMT1nf6Cn3N3veg8KJP0jedv3GMvsy96NvQS0UpkQLc7cGxwmN0gGiBkfj2228XNv+ZOj3wwAOK9J5Ir2K2O+6991718nj77bfdqpDoY6UIcHw0AGWh9E70NfocJCD0QWYD9En6Jn2UpBgkRwzCCl5sZ4wdwIt9oFyuZ/1zyCGHqGT3Ya2FcqlXGOeUGsC//PJLRdCYKftHGHqP6h4lCXCUjWcTSwDewKUkpQZw9pf33HPPgqOxdO8bJQtwGg6+d6LhkkSqmK1DlhLAmVaX4kvc3gdKGuCsydgiKZVIMhq+lABO6i0MXqW2DDMAt2mALTvyjq1cudJ2NLkfSwXgbG1h4Q7SS0yHXlLSIzgNxNZa7dq1JYkMqm4dsBQA/ueff6o2hde+1KXkAU4HwH2WfU4C7ZMupQBwAkuIGNQ9l7sffdEA/H9aJPIN77oogg/8aMhcy0g6wDdu3KhcoXVlc8m1HXM9zwD8f5rC/XWLLbaQKVOm5Ko7Lc9LOsAHDx6svMziTjoSVucxALdp+rzzzlOdw8vn2Haqth+TDHAy4EJ3hD+4kX80YABu6wlM78gFfsEFF9iOJutjkgHepUsXqVOnjmBkM/KPBgzAHT2Btz8Rbm5RR45TtfyaVICTaYdtsSeeeELLdgmq0gbgDs1iZINlg0iiJEoSAY4jS5MmTVSsdRLbrJhnMgB30R7OEYwGRAklTZIIcCs6cNGiRUlrrqKfxwDcQ4VwpkPv5Ac3tcctIjmcNIBD1kDM9plnnhmJPuN+UwNwjxaCoQOGmBtvvNHjDD0PJw3gI0eOlO22206+/vprPRsk4FobgGdQ8OWXX66IApLUeZIEcMhBCBYC5EbcNWAA7q4XddSa/kHMlxRJEsD79u2rEvQVw+6TlHb1eg4DcC/N/O84tM/EFJPuKAmSFIDDs892JgY2I94aMAD31o36hS2YVq1aSfPmzRMRV5wUgB911FGKrRQ6ZCPeGjAA99ZN2S8kTWAUT0JWlCQAHGcWov+gKTaSWQMG4Jn1U/br6aefrtZ7utM76Q5wHJHICoJbqpHsGjAAz64jdQYWW3KbDR8+PMcr4nma7gDHlZiov7gktYxnK/9bKwPwf3WR9dMNN9yg6J1WrFiR9dy4nqAzwH/88UfZZZddhJBQI7lpwAA8Nz2psyx6p65du+ZxVbxO1RngkDiQOeTbb7+Nl1JjXBsD8Dwbh4wrGHhyTdQOqeO+++6rkh7iGcdnHGj8SrqYZ/W1ZVW1PAvJGmuX3377Tel02LBh9sPm8/80YABeQFcggykpkUmPnE3IWDlmzBiV1oYcWaS+YQ1JTrUoRNcRHALFWrVqpcUGELvPC9cA3L03GYC76yXjUTJNAtLbbrst43n8SE5yRhm7MMWnU0bhAqsjwN944w0V3QcVsl0WLFgg7IcbgNu1kvrZADxVHzl/GzRokMr5XMh6kGvplFFYgnUEOHnk2rRpk9I2uBG3aNFCpZI2AE9RTcoXA/AUdeT+hTU0Fl3Amq8wbd9xxx1zSnecb9nZztcN4NQXJyNnJlgs6TNnzlTpeQ3AvVvdANxbN1l/YYqOP/TSpUuzngtPGJkub775ZkUMOH369KzXBHGCTgBn14KYfBII2oVUvZ06dVKHyL9tAG7XTupnA/BUfeT1DT/oAw88UMiBlU2qVq2qOmKlSpVkwoQJkRED6gRwy+9g1apVZeplan7QQQeplyUHDcDLVOP6wQDcVS25H2Q0gd5pzpw5GS9iBCdBPEnkGzdurKzweMeFLboAfMOGDcrGccUVV6SoiCWRnbveADxFPWlfDMDTVJL/gW7durlu4XiVhHGNaeX555/vdUpgx3UBeP/+/YVZj91fAK48Zkv2bKEG4Jm7igF4Zv3k9KvlhHH99dfndD4dtFy5cpEwt+oA8I8++khtQ06dOjVFn+Rz58WY6b/TGJdSQAl+MQD3qdEJQtl+++1T9rbZQuvRo0faHT7++GPVSfv06ZP2W9AHdAB4x44dpX79+jnliTMjeOYeYwCeWT85/4rxZ4899hA7aHFwwag2f/58NdVkHU5s+cEHHyzbbrttTtb3nCuQ44lxB/jzzz+vXn7YKnIRA/DMWjIAz6yfvH6FEII92zfffLPsOrZz9tprL8X8Sd4s3C1xu8xla62sEB8/xBng1q4EI3iuYgCeWVMG4Jn1k/evrVu3jjW9U5wBzpob20RS00bl3Zl8uMAA3Acl2otgCk4nhawxjhJXgBOIU61aNcF6bsQ/DRiA+6fLspLIsrHbbrsJnTZuEleAW0bKtWvXxk1lWtfHADyA5sOBBV9z4r7jJnEEOC68GB1z3WaMm07jXB8D8IBahxhwjGqffPJJQHcorNg4ArxXr17KEOkMqy3sCc1Vdg0YgNu14eNntsRgbznhhBN8LLX4ouIG8HfeeUftPFAvI/5rwADcf52Wlfjss8+qPV3+xkXiBnBcT/ELsLufxkVXSaiHAXjArdihQ4ec6Z0CrooqPk4Ah6GFQB0CdowEowED8GD0WlYqa3DW4rfcckvZsSg/xAXgLGFq166tnH6i1EfS720AHkILQwy40047xYLuNy4AHz9+vGy55Zby6aefhtACpXsLA/AQ2t4i7B84cGAId8t8izgAfOPGjcpHH55zI8FqwAA8WP2WlQ5JAR5uS5YsKTsWxYc4ABw+tcqVK8v3338fhQpK6p4G4CE1N4EUTZo0kcMOOyykO7rfJmqAf/bZZ8omQY4xI8FrwAA8eB2X3QEeb6zGs2fPLjsW9oeoAU5W0Dp16uSUNCJs3STxfgbgIbcqoaI1a9ZMS4YQRDUIpbz99ttT/p9zzjlCCiXn8fvuuy+IKqSU+dprr6kXHPm9jYSjAQPwcPRcdpcvvvhC+V1fd911ZceC+sBWFD7xxKiTicXrPxRIZ5xxRlDVUOXiyBKHJUqgDxnDwg3AI2iUESNGKAKIr776KvC7n3XWWWo7KhOPGb/BOhOkwAPPi2bRokVB3saU7dCAAbhDIWF8hd5pzz33FIIsgpYXX3wxI0kh4N55551z4j8rtK4WnVXfvn0LLcJcV6AGDMALVFyxl2HswuBGYr0ghakxRApeIzjOJmxbBSmjRo1SM5Yoki0G+Vw6lG0AHmErkVCPzChsodmFlD3vvvuu/VBRny+66KKM0/S33nqrqPKti3HHfe6556yv6i+x8TvssIOMHDky5bj5Eo4GDMDD0bPrXQiVxPnlnnvuKft97ty5KjaaBIV+CeterxG8Ro0avkVytWzZUt2nffv2Kusn9WdaDrvNL7/84tfjmHLy0IABeB7KCuLUfv36qQweEPYfeeSRCiBM3atUqeLr7Uji5wQ5VnVnaqBibgovPPegXAxqUFexPLj33nuLKdZcW4QGDMCLUJ4flxJtRiAKWUoBhh2EfuYuw3LvLJ97+cVgCu2Sve4W0LfeemuBb82wtfjRW/IvwwA8f535cgXrbqbmFrid4OC7n0QRvEic96hbt64vz0IhTz31VFr51v1YhpBLnec1xA6+qTynggzAc1KTvye9/PLLUq9ePTWNZTpuAcH+F+u23ySEpAOy7sdoTnpev4SyqLP9GeyfmbLzvUWLFrFkm/VLD3ErxwA85Bb5/fffy9badgA4PzPqde/e3dfaQQTJUoB7AfQVK1b4Vn7Pnj2VwdD5HNZ3y5vuwQcf9O2epqDsGjAAz64j38/466+/BJ9wq/N7/SXlkZ/COhlg879Zs2Z+Fi377bef5/PwUsEA99JLL/l6T1NYdg0YgGfXUWBnwGpiAc4N5Pzmd/KEQw45RAHRz3BNXlhuBjyeieNsk3344YeB6dEU7K0BA3Bv3YTyy8MPP6zio62psxPohJgWKmvWrJEXXnhBZs6cqaLHWNOT2I/p8pAhQ2TcuHECEQV1YK+80JfJsmXLXEdvwL3//vsLMwcj0WjAADwavafclWykpBl2joKAftKkSSnnen1hSw3317PPPltFbVWoUKEMdJRbsWJF5UDDVJoIMwgPGVn5bH+p4PhyxBFHyJVXXin4sWMzyCaEmjLbsJdD3Q899FCVNjnb9eb34DRgAB6cbvMqmTBStq3sIOczziJe8tFHH8mwYcOURR6AASo4xvEtv+2224Rc227+3ytXrkwpkrDSjz/+WB577DFlWe/du7d6GQDY8uXLK6MgmT+9KJYuu+wyNQuxAM4M4bTTThPKNRKtBgzAo9V/yt0hZ2zXrl2KNfqAAw5IOwefb4xkAKp69eoK0I8//rhwvZ/y+eefy5133ildu3YVHFYAO4QVzzzzTMp+Nm619hHckCn62QrFlWUAXpz+fL+aUQ/yBQswjOIc27Bhg5o24xhDoj62pQjscAaq+F6h/xX43XffqfV6q1atVN0aNmwoDzzwgLo/U31eNmztTZs2LagqmHIL0IABeAFKC+OS0aNHl4H89NNPV+GWrNOvuuoqgXY4HyEem6k63mwLFy4U1vxEq0GA+O233+YdC8613bp1U8Y61vLWVP7pp5/Op1rm3BA0YAAegpILvcWFF16oQM6IfeONN+Zk5V61apXcfffd0r9/f2Us23333cteFNYa2fmXzCus/yFEZD395JNP5nQvbAAsKSivefPmsnz58kIf1VwXkAYMwANSbDHFYnAj5JJpOutbDGlegm/3K6+8ohxnatWqpcDGehmXUKb6bI2RAwz3WLbCGLXxYAOcjOZQNUGnxD1Ya1sOKxjsKOPaa6+V1atXe91eOa/gnYYbLPdlhsG+uJF4aMAAPB7tUFYLjGVQKAE0gItAAOGUtWvXChFiFqgB2OWXX64s58VGblE2W19Y8KkLVnH43GfMmOFpGQfUY8eOVYa41q1bm71vZ4NF9N0APCLFO2+LIQ3mFUZtuNp+/vln5ynqO1PwAQMGKCBVrVpVyHvmJ/uL86a8XOBxZ/qOwQ8uObzgvF4i7733nuI9J3MJU30j0WrAADxa/au7A+ajjz5agRb3VTdhC4z9bUC2xx57KAcYjGdhClP7c889V03FsZzff//9rrenXjC58LIiwMVIdBowAI9O9+rObH+x1mX76/XXX3etDR5qAAorOgkLonYgwSJvbeXBQoOTjJtYvvbsi5s4cDcNBX/MADx4HXveAR9t1tpEjblZoBm1e/TooUZC9r3Xr1/vWVbKYem8AAAPVElEQVQUP2Cka9q0qRrRvWYe7ItjsGNENyAPv5UMwMPXubojIzdbUwRjuLmTLl68WPbZZx/FhDJv3ryIapn9thjXMO5hiDv55JNdvenmzJmjyCCCpmfOXtvSO8MAPII2Z41K2CZuphjNnMK2FltOWK6JCNNBoJeCKBKmGrfoMazyvARw4DESngYMwMPTtboTrqWEbLL99MEHH6Td/Y477lAunxBC/P3332m/x/kA++XMSDACusV/T5gwQS03DMtqeK1oAB6ertWdSAAAdxmZNp1CfDaWZ/a3dRWWHni18QJjy8wpeOeR3XTp0qXOn8z3ADRgAB6AUr2KhLIIgxMjmVNwLwXcgFx3IckBseBwojt531izszzBh93v6Dfd9RZE/Q3Ag9CqS5nk6marq3PnzmnWZLKZAPxMLqkuRcb60A8//CCNGzdWnnZ4xtkFV1xGeGLGjQSrAQPwYPVbVjqdGbYUZyQYa9XttttO7SsnbRsJA2HNmjWlbdu2afYEXmoEqRhvt7IuEsgHA/BA1JpaKD7lTL/hPrML7p7EVTdp0sTV39x+rq6flyxZojz0oIByyoknnqhGeC+3V+f55nv+GjAAz19neV3BmpNAEMIqnXLWWWcprjTnOtV5nu7fJ0+erLbIiFyzC/v/ZB7V2ahof544fjYAD7hVbr75ZrWn/emnn6bcCbZTRvWHHnoo5XhSv5xwwglqtHb6zxPnzp7/V199ldRHj/S5DMADVD8+4+wJDxw4MOUuRGixX0zMd6kI63GYXklEaBdYWzE+Gi83u1b8+2wA7p8u00qCsJDoLyeLKd5cEBhCahiFtGnTRhm4nMwufIc9JihhCxD2GKij7MJx9sbj5mtvr6Ounw3AA2o5vNDY6yXqyi7s/RI55hzJ7OcE/TkTwN1sBX7VB3tEnTp1FGGkvUz2zYkfhy7KiL8aMAD3V59lpUEtzBrb6bIJhRLbYpAdRiWA2M3JBKOf0xDmdx1JIQz7qnMUh+oJX/aoQ2H9ft6oyzMAD6gFTjnlFBXnbS+e7SDyZF9yySX2w7H4jB95y5YtA68Lozh747xM7MIyhmAU9seN+KcBA3D/dFlWEjm+GKXZHrILnGasycOIECPtEPvrrPXJ7EmUF95lXgJTCzznYQiUT6y5nfVh6QAdsxH/NGAA7p8uy0rCrxxjEoEXdjnqqKPkuOOOsx8K5DMUUOwvsxxg1oCrKJxquMu6CeGdWPXDSqJACiRePM4kCRgl2TLzSpHkVndzLLMGDMAz66egX0nv4zRWsc/L2jOMfe/3339fWclhaM1FIHF0zjZyua6Yc/BiIyDFLrwQmaYTD2/EHw0YgPujx7JS8Cdnnc3oaRciyMjkmUu2Tvt1hXzGmQSDFffDRTSTpxwvHpIjhO0uClMrYHYuVxo1aiTnnXdeIY9trnHRgAG4i1KKOWSNnm+//XZKMZ06dVLT5JSDAX6hHhBLEKWGNb979+7i9CLj9oCJGPWwhWUEcfGzZs1KuTXx4s6EiyknmC95acAAPC91ZT+ZfN6MnHY2Fj5zDLfVsAXnkSFDhqgp+9VXX51ye0ZPwjadtoKUkwL8gtUeMka7PPHEE+qFZJxe7Fop/LMBeOG6c72yX79+aWtLRnO8xBhVwxCm3cuWLUu5FbHZ2AbsMmjQIOF/VIKzD5lZ7LJu3TqlK3KbGyleAwbgxeswpQS2es4+++yUY1OnTlXbZmHFe/NCIc0vTjb4vcPQCqe6ndoYyzqWdjfSx5TKB/iFPW+WD06nG2Y7YRv9AnzMSIs2APdZ/RjYnLRLF198sWI38flWnsXhNEIyhYoVKyrL/a677qrYYuzLBlIenXrqqZ5lhPEDCROY2ZAU0S5wrUc5s7DXRffPBuA+tiD7t3RY1pF2wcDmnB7bfy/Vz3i1YWibOXNmigpgvymlSLuUh/f5iwG4jwrFvxqAMyW2C15kJAcwkq4Bkjs4rfikOsJmYKR4DRiAF6/DshIANgB3BlLAxWaS8JWpKeUD7rRkVbXLqFGjVFYX+zHzuTANGIAXpjfXq6BFBuBOFlGMRiQNNJKuAbK3OANPcArClmGkeA0YgBevw7ISWHsDcGdubwJMnOvMsotK/AO++eQ0sws+6kEST9jvlfTPBuA+tjBJ9gC43WOMrTF80MnNZSRdAwTB4GVnF2LGCToxUrwGDMCL12FZCRApAnCnFxb7zeQcM5KuAfKLO73Z8AaE4cVI8RowAC9eh2UlWB5rTq41SAVvuummsvPMh381cPDBBwt78na57rrr0jzc7L+bz7lrwAA8d11lPfOjjz5SI7gz6R48ZIb72119xKE7kyLAzUZCCCPFa8AAvHgdlpXA1Jwp+rx588qO8QGih969e6ccM19E5WjDmOYkfmDKjnXdSPEaMAAvXocpJeAeCiWRXeBFJ6WukVQN4AfPC3HBggUpP7Ru3TrNnz/lBPMlZw0YgOesqtxObNasmZx//vkpJ2M0girZSKoGnn32WQVwJ8Ns1apVjc0iVVUFfzMAL1h17he6+VFDgMhIFWXklnttoz16ww03pDm0WP78JuuoP21jAO6PHstKgaqJ6C27QIfEvi5kjEb+1QABJc4gnJdfflm9DJ3ZYP69ynzKRwMG4PloK4dzX3/9ddVBsajbBYLBXr162Q+V9GciyaBzdrrwstsAR5wRfzRgAO6PHstKoePi2OI0tBExxX54WNTEZRWK6Qdr2bJ8+fKUGkKY0adPn5Rj5kvhGjAAL1x3nld26NBBunbtmvI7FEqsww0V0T9qgdqqbt26KToiRxl88vfee2/KcfOlcA0YgBeuO88roUYigsxJRXzggQea0UlE0UhBIUVucLvAhw6VsskVbtdKcZ8NwIvTn+vVhItCV/yf//wn5XfCIFl3OqPNUk4qgS+kSCIAxwnkzp07y+GHH14CGgjvEQ3AA9I1FmJ4ye3Cfi+eW07ONvs5pfAZXwFnCieom5mem50Gf3uAAbi/+iwrDUJ/RnEn+cPgwYOlWrVqadP3sgsT/sFybnnttddSnhSjJC8/J8NqyknmS94aMADPW2W5XUBMOCGPw4YNS7mAaSkj1W233ZZyvFS+4IaKb75dYHutXbu2nH766fbD5rMPGjAA90GJXkXALVahQgX57rvvUk7BNx13TOfxlJMS+OXhhx9WPOjO0RsyDNbk0Cgb8VcDBuD+6jOlNPJfY02/9tpr044zTSerZ6kIW2B77rlnWlQdjDf169eXHj16lIoqQn1OA/CA1c0UnfxfGzduTLkTtESMWs4khSknJegLyR+ItCM1kV3uv/9+NaovWbLEfth89kkDBuA+KdKrGEZxfNPPOeeclFMYuY444ghFD8w5SZbnnntO7W+TwskuGNTw7jNrb7tW/P1sAO6vPl1Lmz59uurg+KnbhdGMqbrT681+ju6f2UXgGbt165b2KKQKZlR3ctilnWgOFKwBA/CCVZf7hYzWbdu2FTzZ/vzzz5QLYX/BeyuJnG2///67YDUne4lz+wtaK+ikS3U3IaUTBPjFADxA5dqLJtPnNttsI5dccon9sPqMyyYgTxK1MkE1J554ojIyLl26NOWZ8eTbb7/9VAZUE3yTohrfvxiA+65S7wLhHiNd7mOPPZZ2EsyiJOLDESQJcu6556oYeOK7nULYLAw3JubbqRn/vxuA+6/TjCX27NlTWdVXr16dch7TeNL5QgxB0IWugtMKpIl48bk9x5133qlecs4MrLo+b9zrbQAecgv99NNPKkySUEn8r+0COM4++2y1fabj2pQ1N9NyXlI4tTgFazqzFGiRjYSjAQPwcPSccpcvv/xS9thjDyHowi2ybPjw4WqUY9ruNMqlFBSjLyR7IFMoU2+npxrVXLhwoYqkIw+ZWXeH13AG4OHpOuVOH3zwgRATfcwxxwgjn1MgPdhuu+3USyDua9VHHnlEGdMaNGjg6m6KgbFKlSpChJ0uLyxne+j63QA8wpZjXxxfdUj+3ZxdAAZunLi7Em0Vt5GPfXwSOmA4JAWwk+AC1b7xxhvK5tCyZUtheWIkXA0YgIer77S7sYVUvXp1OeCAA9IIEDiZqLRLL71U7RkfdNBB8tZbb6WVEfYBbAW33HKLclKpUaOGqzGNOrHmhuCCuHh80Y2ErwED8PB1nnZH1q84g+y1116evumQE5KJE143XFydXnFphQZwgOk1PvT77ruvspKfd955aQ4s3JYdAUgtsKRDoAgRpZFoNGAAHo3e0+6KuyYAJlZ84sSJab9zAODMnTtXpUEC6NAb4Rxjz0fuemGRB9nSI+MnhkGs4GeccYZ8+umnrqUSVANbC+Amio46G4lOAwbg0ek+7c6ssaFXJsqsS5cusmbNmrRzrAO4uGKgA0jQNBOwMXv2bN9izD/55BPlRop9AC87DIKDBg3KmJ2F/OiEhBJA4ubgYtXd/A1PAwbg4ek65zvBGc5oiXHt5ptvFta8XkIwB37sbFEBRF4OfCY/2uTJkxVNM9tybpZ6ysRHnCQNvBxIJUTqJRIPMEOAQokXDb/98ccfXlVQLyKcdDC2HXvssSZ4xFNT4f9gAB6+znO6I0apIUOGqClx48aNZf78+Vmvg9QRB5P+/ftL06ZN1QsCoFr/Ce4gegujHi8P67j1F2CzTLjqqqvklVdeybqlxdKAtTY7AbyQ3DzXslbanBCoBgzAA1Vv8YWzVQaHGSAkBfHjjz+e17qWEZ7pMqPwjBkz1LR77NixKmUQ9MUk+Vu8eLGrw41X7Rn1ycEG7RQBNEOHDjVWci9lRXzcADziBsj19niHsd3ENBiHEgxxYcdRv/POOwIrLN5qbH+xfedkaMn1ecx54WjAADwcPft2F0CGcwkAY8rdqVMnmTlzZkaDXKE3xwJO3Dajdb169dQsYu+99xbIJJ1+9IXew1wXrAYMwIPVb2Cls0Znyt2uXTtlSWcKTwALjK1wsi9atChvz7Gvv/5asIRPmjRJMbBA+0y5WNAJglmwYEFey4PAHt4UnLMGDMBzVlV8T8QFlLU0xIawxjCyW4YzDGotWrRQ63ioodjDJvEfYaukCsJpplGjRmqrzboGoxkJFMeMGaNeFHFzkY1vS8SvZgbg8WuTomuE5xgc43PmzFFbX2yZAWwAjsEOULOeP+mkkxTYWUsTnsronWnvveiKmQJC14ABeOgqNzc0GghPAwbg4ena3MloIHQNGICHrnJzQ6OB8DRgAB6ers2djAZC1wAAv938NzowfSCZfeD/AQ1gkmsXcTFuAAAAAElFTkSuQmCC)\n"
      ]
    },
    {
      "cell_type": "markdown",
      "metadata": {
        "id": "zn5r843A_YUp"
      },
      "source": [
        "#### Task 1:\n",
        "Discuss with others, and finish the node expansion order for each algorithm:"
      ]
    },
    {
      "cell_type": "markdown",
      "metadata": {
        "id": "7gYsvDzSEhE9"
      },
      "source": [
        "##### BrFS(Breadth First Search):\n"
      ]
    },
    {
      "cell_type": "code",
      "metadata": {
        "id": "AAqIDWnqzDYU"
      },
      "source": [
        "#  Expansion node order\n",
        "nodes = [ # (state, accumulated cost -> g(n), id of parent node)\n",
        "      ('s1',0,None),\n",
        "      ('s2',2,0),\n",
        "      ('s3',2,0),\n",
        "      ('s4',1,0),\n",
        "      ('s5',4,1),\n",
        "      ('s7',12,2)\n",
        "]"
      ],
      "execution_count": 10,
      "outputs": []
    },
    {
      "cell_type": "code",
      "metadata": {
        "id": "u9KavEDipYb8",
        "outputId": "332f656c-df81-4ee0-f1b4-fe4d60028c5a",
        "colab": {
          "base_uri": "https://localhost:8080/",
          "height": 271,
          "referenced_widgets": [
            "7d33d6bd0c3441baa37ef7a6f33cc6e1",
            "2ed423291fec4d9c831e0f63f5a09208",
            "c694597923944b7fb80cdc78894d175b",
            "550a0305b08548c5a6b63d3a98f0422e",
            "7bdce67cbee24ef0a10c1ee1a42a56e2",
            "c9ffd3c4f5b043f7a0bc57cd5cef4b5a",
            "e4f0241d695c477a8f56f858aca2950d"
          ]
        }
      },
      "source": [
        "visulize_search_process(nodes,problem)"
      ],
      "execution_count": 11,
      "outputs": [
        {
          "output_type": "display_data",
          "data": {
            "application/vnd.jupyter.widget-view+json": {
              "model_id": "7d33d6bd0c3441baa37ef7a6f33cc6e1",
              "version_minor": 0,
              "version_major": 2
            },
            "text/plain": [
              "interactive(children=(IntSlider(value=2, description='idx', max=5), Output()), _dom_classes=('widget-interact'…"
            ]
          },
          "metadata": {}
        }
      ]
    },
    {
      "cell_type": "markdown",
      "metadata": {
        "id": "0PgvEwPbETZk"
      },
      "source": [
        "##### DFS(Depth First Search):"
      ]
    },
    {
      "cell_type": "code",
      "metadata": {
        "id": "6VLLnA_lEZoq"
      },
      "source": [
        "#  Expansion node order\n",
        "nodes = [ # (state, accumulated cost, id of parent node)\n",
        "      ('s1',0,None),\n",
        "      ('s2',2,0),\n",
        "      ('s5',4,1),\n",
        "      ('s7',7,2)\n",
        "]"
      ],
      "execution_count": 12,
      "outputs": []
    },
    {
      "cell_type": "code",
      "metadata": {
        "id": "bzWl8GXuE1Eu",
        "outputId": "5ea9f3db-d1c9-48a5-d4eb-ed1f15e2c1cd",
        "colab": {
          "base_uri": "https://localhost:8080/",
          "height": 271,
          "referenced_widgets": [
            "b299e997f7414e7cb0fef2555494abd8",
            "af3e365d48e04f298e6b6618c0fcf347",
            "54138122eb4540ef90e1b18e1885df78",
            "1526f10d6eb7417fbac3f2274993875d",
            "e6646fef7937470ca85119d672706cfe",
            "f7a95ee1c3fe46ad89d05c6d852f61d4",
            "2b11854261c541cdb929ed0e1a993711"
          ]
        }
      },
      "source": [
        "visulize_search_process(nodes,problem)"
      ],
      "execution_count": 13,
      "outputs": [
        {
          "output_type": "display_data",
          "data": {
            "application/vnd.jupyter.widget-view+json": {
              "model_id": "b299e997f7414e7cb0fef2555494abd8",
              "version_minor": 0,
              "version_major": 2
            },
            "text/plain": [
              "interactive(children=(IntSlider(value=1, description='idx', max=3), Output()), _dom_classes=('widget-interact'…"
            ]
          },
          "metadata": {}
        }
      ]
    },
    {
      "cell_type": "markdown",
      "metadata": {
        "id": "eZD8T2h1GP8k"
      },
      "source": [
        "##### ID(Iterative Deepening):"
      ]
    },
    {
      "cell_type": "code",
      "metadata": {
        "id": "MjBqaoOUHDAC"
      },
      "source": [
        "#  Expansion node order\n",
        "nodes = [ # (state, accumulated cost, id of parent node)\n",
        "      ('s1',0,None),\n",
        "      ('s1',0,None),\n",
        "      ('s2',2,1),\n",
        "      ('s3',2,1),\n",
        "      ('s4',1,1),\n",
        "      ('s1',0,None),\n",
        "      ('s2',2,5),\n",
        "      ('s5',4,6),\n",
        "      ('s3',2,5),\n",
        "      ('s7',12,8)\n",
        "]"
      ],
      "execution_count": 14,
      "outputs": []
    },
    {
      "cell_type": "code",
      "metadata": {
        "id": "rSFd-6PZH797",
        "outputId": "2a696932-2dbd-4090-90aa-b24f45030905",
        "colab": {
          "base_uri": "https://localhost:8080/",
          "height": 411,
          "referenced_widgets": [
            "eb51e934d2da451fb9198afbc014bcd0",
            "569f5019f46945be9dd78ee07ef06c43",
            "a6d3db4df6c04817bbd310189e8127f5",
            "b030599de0fc430bb9decf4eee8f4e6a",
            "ae50d60062b44ceebbb320c0aae87dd8",
            "b8043457fbc64145acdb3cc12cc71790",
            "f4fa112e84454d998b8a1cb23015f1cd"
          ]
        }
      },
      "source": [
        "visulize_search_process(nodes,problem)"
      ],
      "execution_count": 15,
      "outputs": [
        {
          "output_type": "display_data",
          "data": {
            "application/vnd.jupyter.widget-view+json": {
              "model_id": "eb51e934d2da451fb9198afbc014bcd0",
              "version_minor": 0,
              "version_major": 2
            },
            "text/plain": [
              "interactive(children=(IntSlider(value=4, description='idx', max=9), Output()), _dom_classes=('widget-interact'…"
            ]
          },
          "metadata": {}
        }
      ]
    },
    {
      "cell_type": "markdown",
      "metadata": {
        "id": "UmnUGVCfALwp"
      },
      "source": [
        "#### Task 2:"
      ]
    },
    {
      "cell_type": "markdown",
      "metadata": {
        "id": "RXEm1nzzA0CN"
      },
      "source": [
        "##### Q1: What is the solution found by each algorithm?"
      ]
    },
    {
      "cell_type": "markdown",
      "metadata": {
        "id": "uDqx6QLEA7_E"
      },
      "source": [
        "BFS and ID are the middle way, while DFS goes from left way "
      ]
    },
    {
      "cell_type": "markdown",
      "metadata": {
        "id": "E7KfupOJA8pf"
      },
      "source": [
        "##### Q2: What is the actual optimal solution?"
      ]
    },
    {
      "cell_type": "markdown",
      "metadata": {
        "id": "nFAP2Cs5BfzL"
      },
      "source": [
        "The right way"
      ]
    },
    {
      "cell_type": "markdown",
      "metadata": {
        "id": "vXEd4LMhBgWq"
      },
      "source": [
        "##### Q3: Explain under which conditions the algorithms guarantee optimality?"
      ]
    },
    {
      "cell_type": "markdown",
      "metadata": {
        "id": "edH4piKXBuXq"
      },
      "source": [
        "If the costs are uniform, BFS and ID can find the optimal path"
      ]
    },
    {
      "cell_type": "markdown",
      "metadata": {
        "id": "y0Av9c4xBy6c"
      },
      "source": [
        "##### Q4: Can any of the previous algorithms be adapted to account for $g(n)$ in order to make it optimal?"
      ]
    },
    {
      "cell_type": "markdown",
      "metadata": {
        "id": "8MJ_rU_oF252"
      },
      "source": [
        "Implement a priority queue with which is ordered by the total cost to the nodes\n",
        "Dijkstra"
      ]
    },
    {
      "cell_type": "markdown",
      "metadata": {
        "id": "m4KDVuIyPu19"
      },
      "source": [
        "### Problem 3:\n"
      ]
    },
    {
      "cell_type": "markdown",
      "metadata": {
        "id": "BVvOhutAP1g1"
      },
      "source": [
        "Describe a simple example of *Travelling Salesman Problem* along with its corresponding **State Space Model**. \n",
        "\n",
        "\n",
        "\n",
        "Definition should be brief, clear, and\n",
        "*compact* (*compact* means using mathematical notation to\n",
        "  define sets, i.e. $S = \\{ x | x \\in V \\}$ to define that there are\n",
        "  as many states as elements in the set $V$, and pseudo-code, i.e. to\n",
        "  define the transition function.)\n",
        "\n",
        "1. State space $S$\n",
        "2. Initial state $s_0 \\in S$\n",
        "3. Set of goal states  $S_G \\subseteq S$\n",
        "4. Applicable actions function $A(s)$ for each state $s \\in S$\n",
        "5. Transition function $f(s,a)$ for $s \\in S$ and $a \\in A(s)$\n",
        "6. Cost of each action $c(a)$ for $a \\in A(s)$"
      ]
    },
    {
      "cell_type": "markdown",
      "metadata": {
        "id": "6rj-WB1ITLIL"
      },
      "source": [
        "**Hint**: Consider a set of cities $V$ to visit in any order, a starting city location $v_{start}$, and a set of edges $E$ specifying if there's an edge from two cities $\\langle v_1, v_2 \\rangle$.\n",
        "Let $V'$ be the set of cities has been visited.\n",
        "\n"
      ]
    },
    {
      "cell_type": "markdown",
      "metadata": {
        "id": "LSrmYAFEUWkx"
      },
      "source": [
        "### Challenge Problem 1:"
      ]
    },
    {
      "cell_type": "markdown",
      "metadata": {
        "id": "ZSwCuPTM9SPs"
      },
      "source": [
        "Review problem 2, instead of manual input the node expansion order, now you can try to implement those blind search algorithm on your own."
      ]
    },
    {
      "cell_type": "markdown",
      "metadata": {
        "id": "TCoZgSda9KB3"
      },
      "source": [
        "#### State transition graph:\n",
        "\n",
        "![image.png](data:image/png;base64,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)\n"
      ]
    },
    {
      "cell_type": "markdown",
      "metadata": {
        "id": "oCGzbSGEUpTP"
      },
      "source": [
        "#### Algorithm Implementation: BFS"
      ]
    },
    {
      "cell_type": "code",
      "source": [
        "print(type(state_space))\n",
        "print(type(goal_states))\n",
        "print(type(actions))\n",
        "print(type(transition_function))\n",
        "print(type(costs))\n",
        "print(type(actions['s1']))\n",
        "print(costs)"
      ],
      "metadata": {
        "id": "Ol-bIw-SzGQf",
        "outputId": "3ef10c68-5243-4fcf-e05b-1f67aea64d64",
        "colab": {
          "base_uri": "https://localhost:8080/"
        }
      },
      "execution_count": 16,
      "outputs": [
        {
          "output_type": "stream",
          "name": "stdout",
          "text": [
            "<class 'set'>\n",
            "<class 'set'>\n",
            "<class 'dict'>\n",
            "<class 'dict'>\n",
            "<class 'dict'>\n",
            "<class 'set'>\n",
            "{('s1', 's2'): 1, ('s1', 's3'): 2, ('s2', 's3'): 4, ('s3', 's1'): 3, ('s3', 's4'): 5}\n"
          ]
        }
      ]
    },
    {
      "cell_type": "code",
      "metadata": {
        "id": "_pEe5X3sVJAH"
      },
      "source": [
        "# Instead of return the final solution, your function here should append the node when it gets expanded, and return the expanded list\n",
        "def BFS(problem):\n",
        "    expansion_order = []\n",
        "    # Your code here: ('s3',2,1),\n",
        "    queue = []\n",
        "    queue.append('s1')\n",
        "    expansion_order.append(('s1',0, None))\n",
        "    parent_index = 0\n",
        "    while 1:\n",
        "      current_state = queue.pop(0)\n",
        "      for edge in actions[current_state]:\n",
        "        cost = costs[edge] + int(expansion_order[parent_index][1])\n",
        "        expansion_order.append((edge[1], cost,parent_index))\n",
        "        if edge[1] in goal_states:\n",
        "          return expansion_order\n",
        "        else:\n",
        "          queue.append(edge[1])\n",
        "      parent_index += 1"
      ],
      "execution_count": 17,
      "outputs": []
    },
    {
      "cell_type": "code",
      "metadata": {
        "id": "WZRlact4ZWsy",
        "outputId": "654c2d1a-c78a-4b11-833b-3501d4e56630",
        "colab": {
          "base_uri": "https://localhost:8080/",
          "height": 335
        }
      },
      "source": [
        "visulize_search_process(BFS(problem),problem)"
      ],
      "execution_count": 18,
      "outputs": [
        {
          "output_type": "error",
          "ename": "KeyError",
          "evalue": "ignored",
          "traceback": [
            "\u001b[0;31m---------------------------------------------------------------------------\u001b[0m",
            "\u001b[0;31mKeyError\u001b[0m                                  Traceback (most recent call last)",
            "\u001b[0;32m<ipython-input-18-0202120ca10b>\u001b[0m in \u001b[0;36m<module>\u001b[0;34m()\u001b[0m\n\u001b[0;32m----> 1\u001b[0;31m \u001b[0mvisulize_search_process\u001b[0m\u001b[0;34m(\u001b[0m\u001b[0mBFS\u001b[0m\u001b[0;34m(\u001b[0m\u001b[0mproblem\u001b[0m\u001b[0;34m)\u001b[0m\u001b[0;34m,\u001b[0m\u001b[0mproblem\u001b[0m\u001b[0;34m)\u001b[0m\u001b[0;34m\u001b[0m\u001b[0;34m\u001b[0m\u001b[0m\n\u001b[0m",
            "\u001b[0;32m<ipython-input-4-a05a2ade69c2>\u001b[0m in \u001b[0;36mvisulize_search_process\u001b[0;34m(nodes, problem)\u001b[0m\n\u001b[1;32m     75\u001b[0m \u001b[0;34m\u001b[0m\u001b[0m\n\u001b[1;32m     76\u001b[0m         \u001b[0;31m# Black edges\u001b[0m\u001b[0;34m\u001b[0m\u001b[0;34m\u001b[0m\u001b[0;34m\u001b[0m\u001b[0m\n\u001b[0;32m---> 77\u001b[0;31m         \u001b[0mparam\u001b[0m\u001b[0;34m[\u001b[0m\u001b[0;34m'edge'\u001b[0m\u001b[0;34m]\u001b[0m \u001b[0;34m=\u001b[0m \u001b[0;34m{\u001b[0m\u001b[0;34m(\u001b[0m\u001b[0mstr\u001b[0m\u001b[0;34m(\u001b[0m\u001b[0mparent\u001b[0m\u001b[0;34m)\u001b[0m\u001b[0;34m,\u001b[0m \u001b[0mstr\u001b[0m\u001b[0;34m(\u001b[0m\u001b[0mk\u001b[0m\u001b[0;34m)\u001b[0m\u001b[0;34m)\u001b[0m\u001b[0;34m:\u001b[0m \u001b[0;34m{\u001b[0m\u001b[0;34m'label'\u001b[0m\u001b[0;34m:\u001b[0m \u001b[0mstr\u001b[0m\u001b[0;34m(\u001b[0m\u001b[0mproblem\u001b[0m\u001b[0;34m.\u001b[0m\u001b[0mcosts\u001b[0m\u001b[0;34m[\u001b[0m\u001b[0;34m(\u001b[0m\u001b[0mnodes\u001b[0m\u001b[0;34m[\u001b[0m\u001b[0mparent\u001b[0m\u001b[0;34m]\u001b[0m\u001b[0;34m[\u001b[0m\u001b[0;36m0\u001b[0m\u001b[0;34m]\u001b[0m\u001b[0;34m,\u001b[0m \u001b[0mstate\u001b[0m\u001b[0;34m)\u001b[0m\u001b[0;34m]\u001b[0m\u001b[0;34m)\u001b[0m\u001b[0;34m}\u001b[0m \u001b[0;32mfor\u001b[0m \u001b[0mk\u001b[0m\u001b[0;34m,\u001b[0m \u001b[0;34m(\u001b[0m\u001b[0mstate\u001b[0m\u001b[0;34m,\u001b[0m \u001b[0mcost\u001b[0m\u001b[0;34m,\u001b[0m \u001b[0mparent\u001b[0m\u001b[0;34m)\u001b[0m \u001b[0;32min\u001b[0m \u001b[0menumerate\u001b[0m\u001b[0;34m(\u001b[0m\u001b[0mnodes\u001b[0m\u001b[0;34m[\u001b[0m\u001b[0;34m:\u001b[0m\u001b[0mi\u001b[0m\u001b[0;34m+\u001b[0m\u001b[0;36m1\u001b[0m\u001b[0;34m]\u001b[0m\u001b[0;34m)\u001b[0m \u001b[0;32mif\u001b[0m \u001b[0;32mnot\u001b[0m \u001b[0mparent\u001b[0m \u001b[0;32mis\u001b[0m \u001b[0;32mNone\u001b[0m\u001b[0;34m}\u001b[0m\u001b[0;34m\u001b[0m\u001b[0;34m\u001b[0m\u001b[0m\n\u001b[0m\u001b[1;32m     78\u001b[0m         \u001b[0;32mfor\u001b[0m \u001b[0medge\u001b[0m \u001b[0;32min\u001b[0m \u001b[0mparam\u001b[0m\u001b[0;34m[\u001b[0m\u001b[0;34m'edge'\u001b[0m\u001b[0;34m]\u001b[0m\u001b[0;34m:\u001b[0m\u001b[0;34m\u001b[0m\u001b[0;34m\u001b[0m\u001b[0m\n\u001b[1;32m     79\u001b[0m             \u001b[0mparam\u001b[0m\u001b[0;34m[\u001b[0m\u001b[0;34m'edge'\u001b[0m\u001b[0;34m]\u001b[0m\u001b[0;34m[\u001b[0m\u001b[0medge\u001b[0m\u001b[0;34m]\u001b[0m\u001b[0;34m[\u001b[0m\u001b[0;34m'color'\u001b[0m\u001b[0;34m]\u001b[0m \u001b[0;34m=\u001b[0m \u001b[0;34m'black'\u001b[0m\u001b[0;34m\u001b[0m\u001b[0;34m\u001b[0m\u001b[0m\n",
            "\u001b[0;32m<ipython-input-4-a05a2ade69c2>\u001b[0m in \u001b[0;36m<dictcomp>\u001b[0;34m(.0)\u001b[0m\n\u001b[1;32m     75\u001b[0m \u001b[0;34m\u001b[0m\u001b[0m\n\u001b[1;32m     76\u001b[0m         \u001b[0;31m# Black edges\u001b[0m\u001b[0;34m\u001b[0m\u001b[0;34m\u001b[0m\u001b[0;34m\u001b[0m\u001b[0m\n\u001b[0;32m---> 77\u001b[0;31m         \u001b[0mparam\u001b[0m\u001b[0;34m[\u001b[0m\u001b[0;34m'edge'\u001b[0m\u001b[0;34m]\u001b[0m \u001b[0;34m=\u001b[0m \u001b[0;34m{\u001b[0m\u001b[0;34m(\u001b[0m\u001b[0mstr\u001b[0m\u001b[0;34m(\u001b[0m\u001b[0mparent\u001b[0m\u001b[0;34m)\u001b[0m\u001b[0;34m,\u001b[0m \u001b[0mstr\u001b[0m\u001b[0;34m(\u001b[0m\u001b[0mk\u001b[0m\u001b[0;34m)\u001b[0m\u001b[0;34m)\u001b[0m\u001b[0;34m:\u001b[0m \u001b[0;34m{\u001b[0m\u001b[0;34m'label'\u001b[0m\u001b[0;34m:\u001b[0m \u001b[0mstr\u001b[0m\u001b[0;34m(\u001b[0m\u001b[0mproblem\u001b[0m\u001b[0;34m.\u001b[0m\u001b[0mcosts\u001b[0m\u001b[0;34m[\u001b[0m\u001b[0;34m(\u001b[0m\u001b[0mnodes\u001b[0m\u001b[0;34m[\u001b[0m\u001b[0mparent\u001b[0m\u001b[0;34m]\u001b[0m\u001b[0;34m[\u001b[0m\u001b[0;36m0\u001b[0m\u001b[0;34m]\u001b[0m\u001b[0;34m,\u001b[0m \u001b[0mstate\u001b[0m\u001b[0;34m)\u001b[0m\u001b[0;34m]\u001b[0m\u001b[0;34m)\u001b[0m\u001b[0;34m}\u001b[0m \u001b[0;32mfor\u001b[0m \u001b[0mk\u001b[0m\u001b[0;34m,\u001b[0m \u001b[0;34m(\u001b[0m\u001b[0mstate\u001b[0m\u001b[0;34m,\u001b[0m \u001b[0mcost\u001b[0m\u001b[0;34m,\u001b[0m \u001b[0mparent\u001b[0m\u001b[0;34m)\u001b[0m \u001b[0;32min\u001b[0m \u001b[0menumerate\u001b[0m\u001b[0;34m(\u001b[0m\u001b[0mnodes\u001b[0m\u001b[0;34m[\u001b[0m\u001b[0;34m:\u001b[0m\u001b[0mi\u001b[0m\u001b[0;34m+\u001b[0m\u001b[0;36m1\u001b[0m\u001b[0;34m]\u001b[0m\u001b[0;34m)\u001b[0m \u001b[0;32mif\u001b[0m \u001b[0;32mnot\u001b[0m \u001b[0mparent\u001b[0m \u001b[0;32mis\u001b[0m \u001b[0;32mNone\u001b[0m\u001b[0;34m}\u001b[0m\u001b[0;34m\u001b[0m\u001b[0;34m\u001b[0m\u001b[0m\n\u001b[0m\u001b[1;32m     78\u001b[0m         \u001b[0;32mfor\u001b[0m \u001b[0medge\u001b[0m \u001b[0;32min\u001b[0m \u001b[0mparam\u001b[0m\u001b[0;34m[\u001b[0m\u001b[0;34m'edge'\u001b[0m\u001b[0;34m]\u001b[0m\u001b[0;34m:\u001b[0m\u001b[0;34m\u001b[0m\u001b[0;34m\u001b[0m\u001b[0m\n\u001b[1;32m     79\u001b[0m             \u001b[0mparam\u001b[0m\u001b[0;34m[\u001b[0m\u001b[0;34m'edge'\u001b[0m\u001b[0;34m]\u001b[0m\u001b[0;34m[\u001b[0m\u001b[0medge\u001b[0m\u001b[0;34m]\u001b[0m\u001b[0;34m[\u001b[0m\u001b[0;34m'color'\u001b[0m\u001b[0;34m]\u001b[0m \u001b[0;34m=\u001b[0m \u001b[0;34m'black'\u001b[0m\u001b[0;34m\u001b[0m\u001b[0;34m\u001b[0m\u001b[0m\n",
            "\u001b[0;31mKeyError\u001b[0m: ('s2', 's3')"
          ]
        }
      ]
    },
    {
      "cell_type": "markdown",
      "metadata": {
        "id": "iUgj54NpaCzE"
      },
      "source": [
        "#### Algorithm Implementation: DFS"
      ]
    },
    {
      "cell_type": "code",
      "metadata": {
        "id": "6BALYV0faGdE"
      },
      "source": [
        "# Instead of return the final solution, your function here should append the node when it gets expanded, and return the expanded list\n",
        "def DFS(problem):\n",
        "    expansion_order = []\n",
        "    # Your code here: ('s3',2,1),\n",
        "    stack = []\n",
        "    list_to_add = []\n",
        "    list_to_add = [('s1','s2'),('s1','s3'),('s1','s4')]\n",
        "    list_to_add.extend(stack)\n",
        "    stack = list_to_add\n",
        "    expansion_order.append(('s1',0, None))\n",
        "    parent_index = 0\n",
        "    while 1:\n",
        "      list_to_add = []\n",
        "      current_edge = stack.pop(0)\n",
        "      current_state = current_edge[1]\n",
        "      cost = costs[current_edge] + int(expansion_order[parent_index][1])\n",
        "      expansion_order.append((current_state, cost,parent_index))\n",
        "      print(expansion_order)\n",
        "      if current_state in goal_states:\n",
        "        return expansion_order\n",
        "      for edge in actions[current_state]:\n",
        "        list_to_add.append(edge)\n",
        "      list_to_add.extend(stack)\n",
        "      stack = list_to_add\n",
        "      parent_index += 1"
      ],
      "execution_count": 20,
      "outputs": []
    },
    {
      "cell_type": "code",
      "metadata": {
        "id": "seilI7S5aTUM",
        "outputId": "c3fc5db5-9e9f-438b-8e54-3d7cabb546e8",
        "colab": {
          "base_uri": "https://localhost:8080/",
          "height": 324,
          "referenced_widgets": [
            "8b079360c21b46a2b637cb8ac4841965",
            "10163880144745188d9c7b6c39612055",
            "0bf4a42807054bc2add78ce9d70138ab",
            "772f51fcf1c344bfbb9d2933846cc710",
            "0296e93410f34ca184015e0ac544d46a",
            "47a420af89f54907aa2fe19eefd27b8f",
            "2a29e233d6334876a885307be2a4523b"
          ]
        }
      },
      "source": [
        "visulize_search_process(DFS(problem),problem)"
      ],
      "execution_count": 21,
      "outputs": [
        {
          "output_type": "stream",
          "name": "stdout",
          "text": [
            "[('s1', 0, None), ('s2', 2, 0)]\n",
            "[('s1', 0, None), ('s2', 2, 0), ('s5', 4, 1)]\n",
            "[('s1', 0, None), ('s2', 2, 0), ('s5', 4, 1), ('s7', 7, 2)]\n"
          ]
        },
        {
          "output_type": "display_data",
          "data": {
            "application/vnd.jupyter.widget-view+json": {
              "model_id": "8b079360c21b46a2b637cb8ac4841965",
              "version_minor": 0,
              "version_major": 2
            },
            "text/plain": [
              "interactive(children=(IntSlider(value=1, description='idx', max=3), Output()), _dom_classes=('widget-interact'…"
            ]
          },
          "metadata": {}
        }
      ]
    },
    {
      "cell_type": "markdown",
      "metadata": {
        "id": "JTBmIPngGGi5"
      },
      "source": [
        "#### Algorithm Implementation: ID"
      ]
    },
    {
      "cell_type": "code",
      "metadata": {
        "id": "7y7ee7IHGGi-"
      },
      "source": [
        "# Instead of return the final solution, your function here should append the node when it gets expanded, and return the expanded list\n",
        "def ID(problem):\n",
        "    expansion_order = []\n",
        "    #Your code here:\n",
        "    limit = 0\n",
        "    parent_index = -1\n",
        "    while 1:\n",
        "      stack = []\n",
        "      depth = 1\n",
        "\n",
        "      list_to_add = []\n",
        "      parent_index += 1\n",
        "      for edge in actions['s1']:\n",
        "        if depth <= limit:\n",
        "          list_to_add.append((edge,depth,parent_index))\n",
        "      list_to_add.extend(stack)\n",
        "      stack = list_to_add\n",
        "\n",
        "      expansion_order.append(('s1', 0, None))\n",
        "      print(parent_index)\n",
        "\n",
        "      while 1:\n",
        "        print(\"stack\")\n",
        "        print(stack)\n",
        "        print(expansion_order)\n",
        "        if len(stack) == 0:\n",
        "          break\n",
        "        \n",
        "        current_edge = stack.pop(0)\n",
        "        print(current_edge)\n",
        "        current_state = current_edge[0][1]\n",
        "        depth = current_edge[1] + 1\n",
        "        cost = costs[current_edge[0]] + int(expansion_order[current_edge[2]][1])\n",
        "\n",
        "        expansion_order.append((current_state, cost,current_edge[2]))\n",
        "        # add one when the expansion order is prolonged\n",
        "        parent_index += 1\n",
        "        print(parent_index)\n",
        "        if current_state in goal_states:\n",
        "          print(expansion_order)\n",
        "          print(\"yes?\")\n",
        "          return expansion_order\n",
        "        \n",
        "        list_to_add = []\n",
        "        for edge in actions[current_state]:\n",
        "          if depth <= limit:\n",
        "            list_to_add.append((edge,depth,parent_index))\n",
        "        list_to_add.extend(stack)\n",
        "        stack = list_to_add\n",
        "\n",
        "      limit += 1"
      ],
      "execution_count": 32,
      "outputs": []
    },
    {
      "cell_type": "code",
      "metadata": {
        "id": "sRublBFlGGjD",
        "outputId": "c49ee21e-8b99-4b90-e938-7754ba6ed6db",
        "colab": {
          "base_uri": "https://localhost:8080/",
          "height": 914,
          "referenced_widgets": [
            "5ae78ae0ae4f4d719893ccf23d9963c7",
            "001f8183c9484c7aa09af4379fade9a2",
            "d2bcf8bf249e4a81bbb192c73f678d9b",
            "5e6ebcd69cb94175a41d2a3efdce5538",
            "d2e31c6309f449b390781a962823b1e3",
            "f9546ae811bd484ea251115f9161c625",
            "6c2ab11e60794b46a54f46aa54046517"
          ]
        }
      },
      "source": [
        "visulize_search_process(ID(problem),problem)"
      ],
      "execution_count": 33,
      "outputs": [
        {
          "output_type": "stream",
          "name": "stdout",
          "text": [
            "0\n",
            "stack\n",
            "[]\n",
            "[('s1', 0, None)]\n",
            "1\n",
            "stack\n",
            "[(('s1', 's3'), 1, 1), (('s1', 's4'), 1, 1), (('s1', 's2'), 1, 1)]\n",
            "[('s1', 0, None), ('s1', 0, None)]\n",
            "(('s1', 's3'), 1, 1)\n",
            "2\n",
            "stack\n",
            "[(('s1', 's4'), 1, 1), (('s1', 's2'), 1, 1)]\n",
            "[('s1', 0, None), ('s1', 0, None), ('s3', 2, 1)]\n",
            "(('s1', 's4'), 1, 1)\n",
            "3\n",
            "stack\n",
            "[(('s1', 's2'), 1, 1)]\n",
            "[('s1', 0, None), ('s1', 0, None), ('s3', 2, 1), ('s4', 1, 1)]\n",
            "(('s1', 's2'), 1, 1)\n",
            "4\n",
            "stack\n",
            "[]\n",
            "[('s1', 0, None), ('s1', 0, None), ('s3', 2, 1), ('s4', 1, 1), ('s2', 2, 1)]\n",
            "5\n",
            "stack\n",
            "[(('s1', 's3'), 1, 5), (('s1', 's4'), 1, 5), (('s1', 's2'), 1, 5)]\n",
            "[('s1', 0, None), ('s1', 0, None), ('s3', 2, 1), ('s4', 1, 1), ('s2', 2, 1), ('s1', 0, None)]\n",
            "(('s1', 's3'), 1, 5)\n",
            "6\n",
            "stack\n",
            "[(('s3', 's7'), 2, 6), (('s1', 's4'), 1, 5), (('s1', 's2'), 1, 5)]\n",
            "[('s1', 0, None), ('s1', 0, None), ('s3', 2, 1), ('s4', 1, 1), ('s2', 2, 1), ('s1', 0, None), ('s3', 2, 5)]\n",
            "(('s3', 's7'), 2, 6)\n",
            "7\n",
            "[('s1', 0, None), ('s1', 0, None), ('s3', 2, 1), ('s4', 1, 1), ('s2', 2, 1), ('s1', 0, None), ('s3', 2, 5), ('s7', 12, 6)]\n",
            "yes?\n"
          ]
        },
        {
          "output_type": "display_data",
          "data": {
            "application/vnd.jupyter.widget-view+json": {
              "model_id": "5ae78ae0ae4f4d719893ccf23d9963c7",
              "version_minor": 0,
              "version_major": 2
            },
            "text/plain": [
              "interactive(children=(IntSlider(value=3, description='idx', max=7), Output()), _dom_classes=('widget-interact'…"
            ]
          },
          "metadata": {}
        }
      ]
    }
  ]
}